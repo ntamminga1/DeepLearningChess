{
 "cells": [
  {
   "cell_type": "markdown",
   "metadata": {},
   "source": [
    "# If running on Google Colab"
   ]
  },
  {
   "cell_type": "markdown",
   "metadata": {},
   "source": [
    "You must start by installing both the chess and stockfish libraries."
   ]
  },
  {
   "cell_type": "code",
   "execution_count": null,
   "metadata": {},
   "outputs": [],
   "source": [
    "!pip install chess"
   ]
  },
  {
   "cell_type": "markdown",
   "metadata": {},
   "source": [
    "Next, you need to give the script access to your Google Drive, or mount a different directory where your files are stored."
   ]
  },
  {
   "cell_type": "code",
   "execution_count": null,
   "metadata": {},
   "outputs": [],
   "source": [
    "from google.colab import drive\n",
    "drive.mount('/content/drive')\n",
    "%cd /content/drive/MyDrive/Colab_Notebooks/deep-learning-su2024-chess-project/"
   ]
  },
  {
   "cell_type": "markdown",
   "metadata": {},
   "source": [
    "# Import Libraries"
   ]
  },
  {
   "cell_type": "code",
   "execution_count": 1,
   "metadata": {},
   "outputs": [],
   "source": [
    "import chess\n",
    "import chess.pgn\n",
    "import pandas as pd\n",
    "from bs4 import BeautifulSoup\n",
    "import requests\n",
    "import time\n",
    "import OpeningAPIScraper"
   ]
  },
  {
   "cell_type": "markdown",
   "metadata": {},
   "source": [
    "# Read in PGN file"
   ]
  },
  {
   "cell_type": "markdown",
   "metadata": {},
   "source": [
    "Change these values to what suits your needs.\n",
    "\n",
    "max_game_number = maximum number of games you will look at.\n",
    "\n",
    "PGN_file = file path to the PGN you want to read including the file name."
   ]
  },
  {
   "cell_type": "code",
   "execution_count": null,
   "metadata": {},
   "outputs": [],
   "source": [
    "max_game_number = 100\n",
    "PGN_file = 'lichess_db_standard_rated_2013-01.pgn'"
   ]
  },
  {
   "cell_type": "code",
   "execution_count": null,
   "metadata": {},
   "outputs": [],
   "source": [
    "games = []\n",
    "black_elo = []\n",
    "white_elo = []\n",
    "results = []\n",
    "openings = []\n",
    "with open(PGN_file) as f:\n",
    "  game_number = 1\n",
    "  while game_number < max_game_number:\n",
    "    game = chess.pgn.read_game(f)\n",
    "    if game is None:\n",
    "      break\n",
    "    moves = [str(m) for m in game.mainline_moves()]\n",
    "    if len(moves) > 0:\n",
    "      games.append(moves)\n",
    "      black_elo.append(game.headers['BlackElo'])\n",
    "      white_elo.append(game.headers['WhiteElo'])\n",
    "      results.append(game.headers['Result'])\n",
    "      openings.append(game.headers['Opening'])\n",
    "    game_number += 1"
   ]
  },
  {
   "cell_type": "markdown",
   "metadata": {},
   "source": [
    "# Reading Moves and Finding Openings"
   ]
  },
  {
   "cell_type": "code",
   "execution_count": null,
   "metadata": {},
   "outputs": [],
   "source": [
    "# Read current CSV file to avoid duplicate openings\n",
    "df = pd.read_csv('openings.csv', index_col=0)"
   ]
  },
  {
   "cell_type": "code",
   "execution_count": null,
   "metadata": {},
   "outputs": [],
   "source": [
    "# Go through games to get the opening moves for each game\n",
    "# Opening \"ends\" after 3 moves are made where no known opening is found\n",
    "for game in games:\n",
    "  board = chess.Board()\n",
    "  i = 0\n",
    "  for move in game:\n",
    "    san = board.san(chess.Move.from_uci(move))\n",
    "    board.push(chess.Move.from_uci(move))\n",
    "    if board.fen() not in df['FEN'].values:\n",
    "      try:\n",
    "        bo, data = OpeningAPIScraper.fen_to_opening(board.fen())\n",
    "      except AttributeError:\n",
    "        time.sleep(3)\n",
    "        bo, data = OpeningAPIScraper.fen_to_opening(board.fen())\n",
    "    \n",
    "    if bo == True:\n",
    "      if data[0] not in df['Name'].values:\n",
    "        df.loc[len(df)] = [board.fen(), data[0], data[1], move, san, data[2], data[3], data[4], data[5], data[6], data[7]]\n",
    "      i = 0\n",
    "    if bo == False:\n",
    "      i += 1\n",
    "      if i ==3:\n",
    "        break"
   ]
  },
  {
   "cell_type": "code",
   "execution_count": null,
   "metadata": {},
   "outputs": [],
   "source": [
    "df.to_csv('openings.csv')"
   ]
  }
 ],
 "metadata": {
  "kernelspec": {
   "display_name": "Python 3",
   "language": "python",
   "name": "python3"
  },
  "language_info": {
   "codemirror_mode": {
    "name": "ipython",
    "version": 3
   },
   "file_extension": ".py",
   "mimetype": "text/x-python",
   "name": "python",
   "nbconvert_exporter": "python",
   "pygments_lexer": "ipython3",
   "version": "3.11.1"
  }
 },
 "nbformat": 4,
 "nbformat_minor": 2
}
