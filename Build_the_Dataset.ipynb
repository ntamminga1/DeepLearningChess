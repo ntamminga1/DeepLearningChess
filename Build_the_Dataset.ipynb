{
  "cells": [
    {
      "cell_type": "code",
      "execution_count": null,
      "metadata": {
        "colab": {
          "base_uri": "https://localhost:8080/"
        },
        "id": "xOXI3W-LDLni",
        "outputId": "47739e40-2776-42cb-a3fb-c783614e5a85"
      },
      "outputs": [],
      "source": [
        "# If you are using Colab\n",
        "from google.colab import drive\n",
        "drive.mount('/content/drive')\n",
        "%cd /content/drive/MyDrive/Colab_Notebooks/deep-learning-su2024-chess-project/"
      ]
    },
    {
      "cell_type": "code",
      "execution_count": null,
      "metadata": {
        "colab": {
          "base_uri": "https://localhost:8080/"
        },
        "id": "HFqyXwgYC5CW",
        "outputId": "0aa1cb82-6607-4663-e31b-73ceecf5d4c4"
      },
      "outputs": [],
      "source": [
        "import pandas as pd\n",
        "import requests\n",
        "import numpy as np\n",
        "from concurrent.futures import ThreadPoolExecutor\n",
        "import time\n",
        "from tqdm import tqdm\n",
        "import pickle\n",
        "import random"
      ]
    },
    {
      "cell_type": "code",
      "execution_count": null,
      "metadata": {
        "id": "msb7R9J5C6JR"
      },
      "outputs": [],
      "source": [
        "import HelperFunc"
      ]
    },
    {
      "cell_type": "code",
      "execution_count": null,
      "metadata": {
        "id": "Pxs128iODVfR"
      },
      "outputs": [],
      "source": [
        "with open('chess_data\\move_dict_005.pkl', 'rb') as file:\n",
        "    move_dict = pickle.load(file)\n",
        "with open('chess_data\\engine_move_dict_005.pkl', 'rb') as file:\n",
        "    emove_dict = pickle.load(file)\n",
        "with open('chess_data\\engine_move_dict_005_test.pkl', 'rb') as file:\n",
        "    emove_test_dict = pickle.load(file)"
      ]
    },
    {
      "cell_type": "code",
      "execution_count": null,
      "metadata": {
        "id": "V-xdURyaDYq0"
      },
      "outputs": [],
      "source": [
        "opening_df = pd.read_csv('openings.csv', index_col=0)"
      ]
    },
    {
      "cell_type": "code",
      "execution_count": null,
      "metadata": {
        "id": "FuZAEdJVDbZ9"
      },
      "outputs": [],
      "source": [
        "fens = [fen for fen in list(move_dict.keys()) if fen not in opening_df['FEN'].values]\n",
        "etrain_fens = list(emove_dict.keys())\n",
        "etest_fens = list(emove_test_dict.keys())"
      ]
    },
    {
      "cell_type": "code",
      "execution_count": null,
      "metadata": {
        "id": "EyX8o_acDcdP"
      },
      "outputs": [],
      "source": [
        "index = int(.8*len(fens))\n",
        "train = fens[:index]\n",
        "test = fens[index:]"
      ]
    },
    {
      "cell_type": "code",
      "execution_count": null,
      "metadata": {
        "id": "NC6HxO4iDfy1"
      },
      "outputs": [],
      "source": [
        "human_train = train[:int(index/2)]\n",
        "engine_train = etrain_fens"
      ]
    },
    {
      "cell_type": "code",
      "execution_count": null,
      "metadata": {
        "id": "rbVddLAqadVM"
      },
      "outputs": [],
      "source": [
        "human_test = test[:int((len(fens)-index)/2)]\n",
        "engine_test = etest_fens"
      ]
    },
    {
      "cell_type": "code",
      "execution_count": null,
      "metadata": {
        "id": "YqYS1vtsi0LW"
      },
      "outputs": [],
      "source": [
        "data_df = pd.DataFrame(columns=['FEN', 'Moves','Human?'])"
      ]
    },
    {
      "cell_type": "code",
      "execution_count": null,
      "metadata": {
        "colab": {
          "base_uri": "https://localhost:8080/"
        },
        "id": "fTfwKabIi7gR",
        "outputId": "033862a1-e7c4-416d-bf1f-1c5eb3b4ba2f"
      },
      "outputs": [
        {
          "name": "stdout",
          "output_type": "stream",
          "text": [
            "0\n",
            "10000\n",
            "20000\n",
            "30000\n",
            "40000\n",
            "50000\n",
            "60000\n",
            "70000\n",
            "80000\n",
            "90000\n"
          ]
        }
      ],
      "source": [
        "for fen in human_test:\n",
        "    if human_test.index(fen)%10000 == 0:\n",
        "        print(human_test.index(fen))\n",
        "    for m in move_dict[fen]:\n",
        "        new_record = pd.DataFrame([{'FEN':f'{fen}', 'Moves':f'{m}', 'Human?':1}])\n",
        "        data_df = pd.concat([data_df, new_record], ignore_index=True)"
      ]
    },
    {
      "cell_type": "code",
      "execution_count": null,
      "metadata": {
        "id": "JDxcVxdhmKpI"
      },
      "outputs": [],
      "source": [
        "data_df.to_csv('data.csv')"
      ]
    },
    {
      "cell_type": "code",
      "execution_count": null,
      "metadata": {
        "id": "9Nx9RuP6nlsN"
      },
      "outputs": [],
      "source": [
        "data_df = pd.read_csv('data.csv', index_col=0)"
      ]
    },
    {
      "cell_type": "code",
      "execution_count": null,
      "metadata": {
        "colab": {
          "base_uri": "https://localhost:8080/"
        },
        "id": "av9VH7GCjDtJ",
        "outputId": "0bce85d9-69a5-474e-c2d2-bbe59be53136"
      },
      "outputs": [
        {
          "name": "stdout",
          "output_type": "stream",
          "text": [
            "0\n",
            "10000\n",
            "20000\n",
            "30000\n",
            "40000\n",
            "50000\n",
            "60000\n",
            "70000\n",
            "80000\n",
            "90000\n"
          ]
        }
      ],
      "source": [
        "for fen in engine_test:\n",
        "    if engine_test.index(fen)%10000 == 0:\n",
        "        print(engine_test.index(fen))\n",
        "    for m in emove_test_dict[fen]:\n",
        "        new_record = pd.DataFrame([{'FEN':f'{fen}', 'Moves':f'{m}', 'Human?':0}])\n",
        "        data_df = pd.concat([data_df, new_record], ignore_index=True)"
      ]
    },
    {
      "cell_type": "code",
      "execution_count": null,
      "metadata": {
        "id": "V2losqTdpuJw"
      },
      "outputs": [],
      "source": [
        "data_df.to_csv('data.csv')"
      ]
    }
  ],
  "metadata": {
    "colab": {
      "provenance": []
    },
    "kernelspec": {
      "display_name": "Python 3",
      "name": "python3"
    },
    "language_info": {
      "name": "python",
      "version": "3.11.1"
    }
  },
  "nbformat": 4,
  "nbformat_minor": 0
}
