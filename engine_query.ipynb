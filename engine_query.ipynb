{
 "cells": [
  {
   "cell_type": "code",
   "execution_count": 1,
   "metadata": {},
   "outputs": [],
   "source": [
    "import requests\n",
    "import numpy as np\n",
    "from concurrent.futures import ThreadPoolExecutor\n",
    "import time\n",
    "from tqdm import tqdm\n",
    "import pickle"
   ]
  },
  {
   "cell_type": "markdown",
   "metadata": {},
   "source": [
    "Query https://chessdb.cn/queryc_en/ to get the engine moves from a given postion"
   ]
  },
  {
   "cell_type": "code",
   "execution_count": 9,
   "metadata": {},
   "outputs": [],
   "source": [
    "base_url = 'http://www.chessdb.cn/cdb.php'\n",
    "\n",
    "def process_fen(fen):\n",
    "    params = {\n",
    "        'action': 'queryall',\n",
    "        'board': fen,\n",
    "        'showall': 1\n",
    "    }\n",
    "\n",
    "    # Send the GET request\n",
    "    done = False\n",
    "    while not done:\n",
    "        done = True\n",
    "        response = requests.get(base_url, params=params)\n",
    "\n",
    "        moves_data = response.text.strip().split('|')\n",
    "        engine_moves = []\n",
    "        max_score = -np.inf\n",
    "        for move_data in moves_data:\n",
    "            #Convert the query into the relevant data\n",
    "            \n",
    "            details = move_data.split(',')\n",
    "\n",
    "            #With the threading, sometimes the full query isnt load properly\n",
    "            #if it isn't loaded fully, redo the request\n",
    "            if len(details) > 2:\n",
    "                move, score = details[:2]\n",
    "                move = move.split(':')\n",
    "                score = score.split(':')\n",
    "                if len(move)>1 and len(score)>1:\n",
    "                    move = details[0].split(':')[1]\n",
    "                    score = details[1].split(':')[1]\n",
    "                else:\n",
    "                    done = False\n",
    "            else:\n",
    "                done = False\n",
    "\n",
    "\n",
    "            #Keep all moves with the top score\n",
    "            if done and (score.isnumeric() or (score.startswith('-') and score[1:].isnumeric())) and int(score) >= max_score:\n",
    "                max_score = int(score)\n",
    "                engine_moves.append(move)\n",
    "            else:\n",
    "                break\n",
    "            \n",
    "        return engine_moves\n",
    "\n",
    "def process_multiple_fens(fens, max_workers=10):\n",
    "    with ThreadPoolExecutor(max_workers=max_workers) as executor:\n",
    "        results = list(tqdm(executor.map(process_fen, fens), total=len(fens)))\n",
    "    return results"
   ]
  },
  {
   "cell_type": "markdown",
   "metadata": {},
   "source": [
    "Load in a 1,000,000 positions to query"
   ]
  },
  {
   "cell_type": "code",
   "execution_count": 4,
   "metadata": {},
   "outputs": [],
   "source": [
    "index = 0\n",
    "with open(f'C:/Users/Calvin Pozderac/Documents/Chess/chess_data/move_dict_{index:03d}.pkl', 'rb') as file:\n",
    "    # Load the dictionary from the file\n",
    "    move_dict = pickle.load(file)"
   ]
  },
  {
   "cell_type": "code",
   "execution_count": 11,
   "metadata": {},
   "outputs": [
    {
     "name": "stderr",
     "output_type": "stream",
     "text": [
      "  0%|          | 3551/1000000 [03:33<15:19:05, 18.07it/s]"
     ]
    }
   ],
   "source": [
    "opening_fens = []\n",
    "\n",
    "#Remove the FENs that are in common openings since humans and engines\n",
    "#will have similar suggestions here so this data is not as valuable\n",
    "fens = [fen for fen in move_dict.keys() if fen not in opening_fens]\n",
    "\n",
    "engine_moves_list = process_multiple_fens(fens)\n"
   ]
  },
  {
   "cell_type": "markdown",
   "metadata": {},
   "source": [
    "Save the engine move dictionary"
   ]
  },
  {
   "cell_type": "code",
   "execution_count": null,
   "metadata": {},
   "outputs": [],
   "source": [
    "engine_move_dicts = {key:value for key, value in zip(fens, engine_moves_list)}\n",
    "\n",
    "with open(f'chess_data/engine_move_dict_{index:03d}.pkl', 'wb') as f:\n",
    "    pickle.dump(engine_move_dicts, f)"
   ]
  }
 ],
 "metadata": {
  "kernelspec": {
   "display_name": "Python 3",
   "language": "python",
   "name": "python3"
  },
  "language_info": {
   "codemirror_mode": {
    "name": "ipython",
    "version": 3
   },
   "file_extension": ".py",
   "mimetype": "text/x-python",
   "name": "python",
   "nbconvert_exporter": "python",
   "pygments_lexer": "ipython3",
   "version": "3.10.11"
  }
 },
 "nbformat": 4,
 "nbformat_minor": 2
}
