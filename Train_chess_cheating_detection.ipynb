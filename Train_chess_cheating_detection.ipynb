{
  "cells": [
    {
      "cell_type": "markdown",
      "metadata": {
        "id": "view-in-github",
        "colab_type": "text"
      },
      "source": [
        "<a href=\"https://colab.research.google.com/github/ntamminga1/DeepLearningChess/blob/main/Train_chess_cheating_detection.ipynb\" target=\"_parent\"><img src=\"https://colab.research.google.com/assets/colab-badge.svg\" alt=\"Open In Colab\"/></a>"
      ]
    },
    {
      "cell_type": "code",
      "execution_count": null,
      "metadata": {
        "colab": {
          "base_uri": "https://localhost:8080/"
        },
        "id": "b9_5gq81MzlY",
        "outputId": "10734195-a12a-4c70-b893-829e50c6eb9b"
      },
      "outputs": [
        {
          "output_type": "stream",
          "name": "stdout",
          "text": [
            "Collecting python-chess\n",
            "  Downloading python_chess-1.999-py3-none-any.whl.metadata (776 bytes)\n",
            "Collecting chess<2,>=1 (from python-chess)\n",
            "  Downloading chess-1.10.0-py3-none-any.whl.metadata (19 kB)\n",
            "Downloading python_chess-1.999-py3-none-any.whl (1.4 kB)\n",
            "Downloading chess-1.10.0-py3-none-any.whl (154 kB)\n",
            "\u001b[2K   \u001b[90m━━━━━━━━━━━━━━━━━━━━━━━━━━━━━━━━━━━━━━━━\u001b[0m \u001b[32m154.4/154.4 kB\u001b[0m \u001b[31m3.9 MB/s\u001b[0m eta \u001b[36m0:00:00\u001b[0m\n",
            "\u001b[?25hInstalling collected packages: chess, python-chess\n",
            "Successfully installed chess-1.10.0 python-chess-1.999\n"
          ]
        }
      ],
      "source": [
        "!pip install python-chess\n",
        "import chess.pgn\n",
        "from IPython.display import clear_output\n",
        "import math\n",
        "from typing import NamedTuple, Tuple\n",
        "import torch\n",
        "from torch import nn\n",
        "import torch.nn.functional as F\n",
        "import numpy as np\n",
        "from tqdm import tqdm\n",
        "import gc\n",
        "import pickle\n",
        "import os"
      ]
    },
    {
      "cell_type": "code",
      "execution_count": null,
      "metadata": {
        "id": "4pCgofmv-uH4"
      },
      "outputs": [],
      "source": [
        "if torch.cuda.is_available():\n",
        "    device = torch.device('cuda')\n",
        "else:\n",
        "    device = torch.device('cpu')"
      ]
    },
    {
      "cell_type": "code",
      "execution_count": null,
      "metadata": {
        "id": "_jU8d7uDM4E7"
      },
      "outputs": [],
      "source": [
        "#Neural network largely inspired from AlphaZero\n",
        "\n",
        "def initialize_weights(net: nn.Module) -> None:\n",
        "\n",
        "    for module in net.modules():\n",
        "        if isinstance(module, (nn.Conv2d, nn.Linear)):\n",
        "            nn.init.kaiming_uniform_(module.weight, nonlinearity='relu')\n",
        "\n",
        "            if module.bias is not None:\n",
        "                nn.init.zeros_(module.bias)\n",
        "\n",
        "\n",
        "class ResNetBlock(nn.Module):\n",
        "    #Basic redisual block\n",
        "\n",
        "    def __init__(\n",
        "        self,\n",
        "        num_filters: int,\n",
        "    ) -> None:\n",
        "        super().__init__()\n",
        "\n",
        "        self.conv_block1 = nn.Sequential(\n",
        "            nn.Conv2d(\n",
        "                in_channels=num_filters,\n",
        "                out_channels=num_filters,\n",
        "                kernel_size=3,\n",
        "                stride=1,\n",
        "                padding=1,\n",
        "                bias=False,\n",
        "            ),\n",
        "            nn.BatchNorm2d(num_features=num_filters),\n",
        "            nn.ReLU(),\n",
        "        )\n",
        "\n",
        "        self.conv_block2 = nn.Sequential(\n",
        "            nn.Conv2d(\n",
        "                in_channels=num_filters,\n",
        "                out_channels=num_filters,\n",
        "                kernel_size=3,\n",
        "                stride=1,\n",
        "                padding=1,\n",
        "                bias=False,\n",
        "            ),\n",
        "            nn.BatchNorm2d(num_features=num_filters),\n",
        "        )\n",
        "\n",
        "    def forward(self, x: torch.Tensor) -> torch.Tensor:\n",
        "        residual = x\n",
        "        out = self.conv_block1(x)\n",
        "        out = self.conv_block2(out)\n",
        "        out += residual\n",
        "        out = F.relu(out)\n",
        "        return out\n",
        "\n",
        "\n",
        "class AlphaZeroNet(nn.Module):\n",
        "\n",
        "    def __init__(\n",
        "        self,\n",
        "        input_shape: Tuple,\n",
        "        num_res_block: int = 20,\n",
        "        num_filters: int = 32,\n",
        "        num_fc_units: int = 32,\n",
        "    ) -> None:\n",
        "        super().__init__()\n",
        "        c, h, w = input_shape\n",
        "\n",
        "        num_padding =1\n",
        "\n",
        "        conv_out = h * w\n",
        "\n",
        "        # First convolutional block\n",
        "        self.conv_block = nn.Sequential(\n",
        "            nn.Conv2d(\n",
        "                in_channels=c,\n",
        "                out_channels=num_filters,\n",
        "                kernel_size=3,\n",
        "                stride=1,\n",
        "                padding=num_padding,\n",
        "                bias=False,\n",
        "            ),\n",
        "            nn.BatchNorm2d(num_features=num_filters),\n",
        "            nn.ReLU(),\n",
        "        )\n",
        "\n",
        "        # Residual blocks\n",
        "        self.res_blocks = nn.Sequential(*[ResNetBlock(num_filters) for _ in range(num_res_block)])\n",
        "\n",
        "\n",
        "        self.value = nn.Sequential(\n",
        "            nn.Conv2d(\n",
        "                in_channels=num_filters,\n",
        "                out_channels=1,\n",
        "                kernel_size=1,\n",
        "                stride=1,\n",
        "                bias=False,\n",
        "            ),\n",
        "            nn.BatchNorm2d(num_features=1),\n",
        "            nn.ReLU(),\n",
        "            nn.Flatten(),\n",
        "            nn.Linear(1 * conv_out, num_fc_units),\n",
        "            nn.ReLU(),\n",
        "            nn.Linear(num_fc_units, 1)\n",
        "        )\n",
        "\n",
        "        initialize_weights(self)\n",
        "\n",
        "    def forward(self, x: torch.Tensor) -> torch.tensor:\n",
        "\n",
        "        conv_block_out = self.conv_block(x)\n",
        "        features = self.res_blocks(conv_block_out)\n",
        "\n",
        "        # Predict whether the move is human or engine move\n",
        "        value = self.value(features)\n",
        "\n",
        "        return value"
      ]
    },
    {
      "cell_type": "code",
      "execution_count": null,
      "metadata": {
        "id": "tBgJ4uZ1Nb_b"
      },
      "outputs": [],
      "source": [
        "channel_dict = {\n",
        "        'P': 0, 'N': 1, 'B': 2, 'R': 3, 'Q': 4, 'K': 5,\n",
        "        'p': 6, 'n': 7, 'b': 8, 'r': 9, 'q': 10, 'k': 11\n",
        "    }\n",
        "\n",
        "#Create a tensor form a FEN position and move\n",
        "def fen_to_data(fen, moves):\n",
        "    input = torch.zeros((20,8,8))\n",
        "    pieces, turn, castling, enpassant = fen.split(\" \")\n",
        "    board = pieces.split('/')\n",
        "    for rank in range(8):\n",
        "        file = 0\n",
        "        for piece in board[rank]:\n",
        "            if piece.isnumeric():\n",
        "                file += int(piece)\n",
        "            else:\n",
        "                input[channel_dict[piece], rank, file] = 1\n",
        "                file += 1\n",
        "    input[12] = 1*(turn == 'w')\n",
        "    input[13] = 1*('K' in castling)\n",
        "    input[14] = 1*('Q' in castling)\n",
        "    input[15] = 1*('k' in castling)\n",
        "    input[16] = 1*('q' in castling)\n",
        "    if enpassant != '-':\n",
        "        input[17, int(enpassant[1])-1, ord(enpassant[0])-97] = 1\n",
        "\n",
        "    inputs = []\n",
        "    labels = []\n",
        "    for i, move_set in enumerate([moves[0], moves[2]]):\n",
        "        for move in move_set:\n",
        "            current_input = input.clone()\n",
        "\n",
        "            current_input[18, int(move[1])-1, ord(move[0])-97] = 1\n",
        "            current_input[19, int(move[3])-1, ord(move[2])-97] = 1\n",
        "\n",
        "            inputs.append(current_input)\n",
        "            labels.append(1-i)\n",
        "\n",
        "    return inputs, labels\n"
      ]
    },
    {
      "cell_type": "code",
      "execution_count": null,
      "metadata": {
        "colab": {
          "base_uri": "https://localhost:8080/"
        },
        "id": "PZPdd9V9V1TX",
        "outputId": "d2c13aff-b0b0-4dec-a8ae-ae8046958d8b"
      },
      "outputs": [
        {
          "output_type": "stream",
          "name": "stderr",
          "text": [
            "100%|██████████| 14/14 [01:45<00:00,  7.51s/it]\n"
          ]
        }
      ],
      "source": [
        "#Load in data\n",
        "data_dict = {}\n",
        "for i in tqdm(range(14)):\n",
        "    with open(f'/content/drive/MyDrive/chess_data/final_dict{i:03d}.pkl', 'rb') as f:\n",
        "        data_dict = data_dict | pickle.load(f)"
      ]
    },
    {
      "cell_type": "code",
      "source": [
        "#Seperate the data into a train and a test set\n",
        "\n",
        "#fraction = 0.9\n",
        "#train_inds = np.random.choice(len(data_dict), int(len(data_dict)*0.9), replace = False)\n",
        "#with open(f'/content/drive/MyDrive/chess_data/train_inds.pkl', 'wb') as f:\n",
        "#    pickle.dump(train_inds, f)"
      ],
      "metadata": {
        "id": "f2ut78WK1-cE"
      },
      "execution_count": null,
      "outputs": []
    },
    {
      "cell_type": "code",
      "execution_count": null,
      "metadata": {
        "id": "KOlEvVtWamI9"
      },
      "outputs": [],
      "source": [
        "#Seperate the data into a train and a test set\n",
        "\n",
        "with open(f'/content/drive/MyDrive/chess_data/train_inds.pkl', 'rb') as f:\n",
        "    train_inds = pickle.load(f)\n",
        "test_inds = sorted(list(set(range(len(data_dict)))-set(train_inds)))\n",
        "fens = list(data_dict.keys())\n",
        "train_fens = [fens[i] for i in train_inds]\n",
        "test_fens = [fens[i] for i in test_inds]"
      ]
    },
    {
      "cell_type": "code",
      "source": [
        "#Take a subset of the train data to hopefully speed up training\n",
        "\n",
        "#train_subset_inds = np.random.choice(len(train_fens), 1000000, replace = False)\n",
        "#with open(f'/content/drive/MyDrive/chess_data/train_subset_inds.pkl', 'wb') as f:\n",
        "#    pickle.dump(train_subset_inds, f)"
      ],
      "metadata": {
        "id": "gW2dhTBv5Ebd"
      },
      "execution_count": null,
      "outputs": []
    },
    {
      "cell_type": "code",
      "execution_count": null,
      "metadata": {
        "colab": {
          "base_uri": "https://localhost:8080/"
        },
        "id": "DGDpN9EBVESi",
        "outputId": "b8cce16c-c667-4e9a-8e0f-5a59ae7739dd"
      },
      "outputs": [
        {
          "output_type": "stream",
          "name": "stderr",
          "text": [
            "100%|██████████| 1000000/1000000 [05:36<00:00, 2969.52it/s]\n"
          ]
        }
      ],
      "source": [
        "#Convert train data to tensors and move them to GPU\n",
        "\n",
        "train_inputs = []\n",
        "train_labels = []\n",
        "with open(f'/content/drive/MyDrive/chess_data/train_subset_inds.pkl', 'rb') as f:\n",
        "    train_subset_inds = pickle.load(f)\n",
        "for i in tqdm(train_subset_inds):\n",
        "    inputs, labels = fen_to_data(train_fens[i], data_dict[train_fens[i]])\n",
        "    train_inputs += inputs\n",
        "    train_labels += labels\n",
        "train_inputs = torch.stack(train_inputs)\n",
        "train_labels = torch.tensor(train_labels, dtype = torch.float32)\n",
        "gpu_train_inputs = train_inputs.to(device = device)\n",
        "gpu_train_labels = train_labels.to(device = device)"
      ]
    },
    {
      "cell_type": "code",
      "execution_count": null,
      "metadata": {
        "colab": {
          "base_uri": "https://localhost:8080/"
        },
        "id": "f_zR7zdO-iR9",
        "outputId": "34588546-b84a-4b24-c180-7b34993fa02c"
      },
      "outputs": [
        {
          "output_type": "stream",
          "name": "stderr",
          "text": [
            "100%|██████████| 531382/531382 [02:43<00:00, 3255.85it/s]\n"
          ]
        }
      ],
      "source": [
        "#Convert test data to tensors and move them to GPU\n",
        "\n",
        "test_inputs = []\n",
        "test_labels = []\n",
        "for fen in tqdm(test_fens):\n",
        "    inputs, labels = fen_to_data(fen, data_dict[fen])\n",
        "    test_inputs += inputs\n",
        "    test_labels += labels\n",
        "test_inputs = torch.stack(test_inputs)\n",
        "test_labels = torch.tensor(test_labels, dtype = torch.float32)\n",
        "gpu_test_inputs = test_inputs.to(device = device)\n",
        "gpu_test_labels = test_labels.to(device = device)"
      ]
    },
    {
      "cell_type": "code",
      "execution_count": null,
      "metadata": {
        "id": "RqsF0cawV4ZN"
      },
      "outputs": [],
      "source": [
        "#Initialize neural network\n",
        "\n",
        "neural_net = AlphaZeroNet((20,8,8), 10, 32, 32).to(device = device)\n",
        "files = [int(filename[10:14]) for filename in os.listdir('/content/drive/MyDrive/chess_data/small_model') if filename.startswith(\"neural_net\")]\n",
        "if len(files)>0:\n",
        "    last_i = max(files)\n",
        "    neural_net.load_state_dict(torch.load(f'/content/drive/MyDrive/chess_data/small_model/neural_net{last_i:04d}.pt'))\n",
        "else:\n",
        "    last_i = 0\n",
        "    torch.save(neural_net.state_dict(), f'/content/drive/MyDrive/chess_data/small_model/neural_net{0:04d}.pt')\n",
        "optim = torch.optim.SGD(neural_net.parameters(), lr=1e-2, momentum=0.9, weight_decay = 10**-5)\n",
        "loss_fn = nn.BCEWithLogitsLoss()"
      ]
    },
    {
      "cell_type": "code",
      "execution_count": null,
      "metadata": {
        "colab": {
          "base_uri": "https://localhost:8080/"
        },
        "id": "IdARMc_-XF4U",
        "outputId": "d7117a2c-b358-4995-fb52-052dd2c58a55"
      },
      "outputs": [
        {
          "output_type": "stream",
          "name": "stderr",
          "text": [
            "27211it [04:58, 78.88it/s]"
          ]
        },
        {
          "output_type": "stream",
          "name": "stdout",
          "text": [
            "   Train Loss = 0.634682180215457   Test Loss = 0.7056843042373657\n"
          ]
        },
        {
          "output_type": "stream",
          "name": "stderr",
          "text": [
            "54413it [09:52, 76.58it/s]"
          ]
        },
        {
          "output_type": "stream",
          "name": "stdout",
          "text": [
            "   Train Loss = 0.6233760582120009   Test Loss = 0.5903697609901428\n"
          ]
        },
        {
          "output_type": "stream",
          "name": "stderr",
          "text": [
            "81603it [14:45, 74.33it/s]"
          ]
        },
        {
          "output_type": "stream",
          "name": "stdout",
          "text": [
            "   Train Loss = 0.6202260535011765   Test Loss = 0.6368396282196045\n"
          ]
        },
        {
          "output_type": "stream",
          "name": "stderr",
          "text": [
            "108809it [19:36, 79.84it/s]"
          ]
        },
        {
          "output_type": "stream",
          "name": "stdout",
          "text": [
            "   Train Loss = 0.6176366799718729   Test Loss = 0.5391815900802612\n"
          ]
        },
        {
          "output_type": "stream",
          "name": "stderr",
          "text": [
            "136007it [24:26, 78.34it/s]"
          ]
        },
        {
          "output_type": "stream",
          "name": "stdout",
          "text": [
            "   Train Loss = 0.6155382088067137   Test Loss = 0.6488502025604248\n"
          ]
        },
        {
          "output_type": "stream",
          "name": "stderr",
          "text": [
            "163199it [29:14, 80.64it/s]"
          ]
        },
        {
          "output_type": "stream",
          "name": "stdout",
          "text": [
            "   Train Loss = 0.6137546303956173   Test Loss = 0.5767083168029785\n"
          ]
        },
        {
          "output_type": "stream",
          "name": "stderr",
          "text": [
            "190403it [34:00, 80.50it/s]"
          ]
        },
        {
          "output_type": "stream",
          "name": "stdout",
          "text": [
            "   Train Loss = 0.6120827904395544   Test Loss = 0.6342602372169495\n"
          ]
        },
        {
          "output_type": "stream",
          "name": "stderr",
          "text": [
            "217602it [38:52, 78.28it/s]"
          ]
        },
        {
          "output_type": "stream",
          "name": "stdout",
          "text": [
            "   Train Loss = 0.6103039515773219   Test Loss = 0.5623455047607422\n"
          ]
        },
        {
          "output_type": "stream",
          "name": "stderr",
          "text": [
            "244800it [43:45, 78.80it/s]"
          ]
        },
        {
          "output_type": "stream",
          "name": "stdout",
          "text": [
            "   Train Loss = 0.6088468993584087   Test Loss = 0.5843896865844727\n"
          ]
        },
        {
          "output_type": "stream",
          "name": "stderr",
          "text": [
            "271991it [48:40, 79.33it/s]"
          ]
        },
        {
          "output_type": "stream",
          "name": "stdout",
          "text": [
            "   Train Loss = 0.6074596477682183   Test Loss = 0.6098544597625732\n"
          ]
        },
        {
          "output_type": "stream",
          "name": "stderr",
          "text": [
            "299188it [53:32, 76.08it/s]"
          ]
        },
        {
          "output_type": "stream",
          "name": "stdout",
          "text": [
            "   Train Loss = 0.606235766991139   Test Loss = 0.6363557577133179\n"
          ]
        },
        {
          "output_type": "stream",
          "name": "stderr",
          "text": [
            "326393it [58:21, 78.60it/s]"
          ]
        },
        {
          "output_type": "stream",
          "name": "stdout",
          "text": [
            "   Train Loss = 0.6051527082643945   Test Loss = 0.628955602645874\n"
          ]
        },
        {
          "output_type": "stream",
          "name": "stderr",
          "text": [
            "353584it [1:03:11, 77.21it/s]"
          ]
        },
        {
          "output_type": "stream",
          "name": "stdout",
          "text": [
            "   Train Loss = 0.6039083612535848   Test Loss = 0.6083566546440125\n"
          ]
        },
        {
          "output_type": "stream",
          "name": "stderr",
          "text": [
            "380786it [1:08:00, 76.38it/s]"
          ]
        },
        {
          "output_type": "stream",
          "name": "stdout",
          "text": [
            "   Train Loss = 0.6028346380018751   Test Loss = 0.6223276853561401\n"
          ]
        },
        {
          "output_type": "stream",
          "name": "stderr",
          "text": [
            "407980it [1:12:46, 75.33it/s]"
          ]
        },
        {
          "output_type": "stream",
          "name": "stdout",
          "text": [
            "   Train Loss = 0.6017550621254321   Test Loss = 0.603376030921936\n"
          ]
        },
        {
          "output_type": "stream",
          "name": "stderr",
          "text": [
            "435181it [1:17:33, 79.51it/s]"
          ]
        },
        {
          "output_type": "stream",
          "name": "stdout",
          "text": [
            "   Train Loss = 0.6006567793932458   Test Loss = 0.5761660933494568\n"
          ]
        },
        {
          "output_type": "stream",
          "name": "stderr",
          "text": [
            "462379it [1:22:18, 82.72it/s]"
          ]
        },
        {
          "output_type": "stream",
          "name": "stdout",
          "text": [
            "   Train Loss = 0.5996689784175308   Test Loss = 0.6529535055160522\n"
          ]
        },
        {
          "output_type": "stream",
          "name": "stderr",
          "text": [
            "489579it [1:26:56, 81.51it/s]"
          ]
        },
        {
          "output_type": "stream",
          "name": "stdout",
          "text": [
            "   Train Loss = 0.5987646581320317   Test Loss = 0.6814084053039551\n"
          ]
        },
        {
          "output_type": "stream",
          "name": "stderr",
          "text": [
            "516781it [1:31:35, 81.62it/s]"
          ]
        },
        {
          "output_type": "stream",
          "name": "stdout",
          "text": [
            "   Train Loss = 0.5976977569582322   Test Loss = 0.559219241142273\n"
          ]
        },
        {
          "output_type": "stream",
          "name": "stderr",
          "text": [
            "543974it [1:36:15, 84.56it/s]"
          ]
        },
        {
          "output_type": "stream",
          "name": "stdout",
          "text": [
            "   Train Loss = 0.5967794693658541   Test Loss = 0.5331103205680847\n"
          ]
        },
        {
          "output_type": "stream",
          "name": "stderr",
          "text": [
            "571172it [1:40:53, 83.29it/s]"
          ]
        },
        {
          "output_type": "stream",
          "name": "stdout",
          "text": [
            "   Train Loss = 0.5957752594974814   Test Loss = 0.5791641473770142\n"
          ]
        },
        {
          "output_type": "stream",
          "name": "stderr",
          "text": [
            "598370it [1:45:31, 82.53it/s]"
          ]
        },
        {
          "output_type": "stream",
          "name": "stdout",
          "text": [
            "   Train Loss = 0.5947849451246415   Test Loss = 0.6354418992996216\n"
          ]
        },
        {
          "output_type": "stream",
          "name": "stderr",
          "text": [
            "625574it [1:50:09, 85.24it/s]"
          ]
        },
        {
          "output_type": "stream",
          "name": "stdout",
          "text": [
            "   Train Loss = 0.5939129758507059   Test Loss = 0.6450190544128418\n"
          ]
        },
        {
          "output_type": "stream",
          "name": "stderr",
          "text": [
            "652767it [1:54:45, 85.36it/s]"
          ]
        },
        {
          "output_type": "stream",
          "name": "stdout",
          "text": [
            "   Train Loss = 0.593183193042687   Test Loss = 0.5345122218132019\n"
          ]
        },
        {
          "output_type": "stream",
          "name": "stderr",
          "text": [
            "679962it [1:59:21, 83.23it/s]"
          ]
        },
        {
          "output_type": "stream",
          "name": "stdout",
          "text": [
            "   Train Loss = 0.592282104267777   Test Loss = 0.6381126642227173\n"
          ]
        },
        {
          "output_type": "stream",
          "name": "stderr",
          "text": [
            "707158it [2:03:58, 79.44it/s] "
          ]
        },
        {
          "output_type": "stream",
          "name": "stdout",
          "text": [
            "   Train Loss = 0.5914489490265828   Test Loss = 0.6458402276039124\n"
          ]
        },
        {
          "output_type": "stream",
          "name": "stderr",
          "text": [
            "734358it [2:08:33, 86.15it/s]"
          ]
        },
        {
          "output_type": "stream",
          "name": "stdout",
          "text": [
            "   Train Loss = 0.5905541796501581   Test Loss = 0.568405270576477\n"
          ]
        },
        {
          "output_type": "stream",
          "name": "stderr",
          "text": [
            "761561it [2:13:09, 81.23it/s]"
          ]
        },
        {
          "output_type": "stream",
          "name": "stdout",
          "text": [
            "   Train Loss = 0.589851900587819   Test Loss = 0.6427474021911621\n"
          ]
        },
        {
          "output_type": "stream",
          "name": "stderr",
          "text": [
            "788753it [2:17:44, 84.42it/s]"
          ]
        },
        {
          "output_type": "stream",
          "name": "stdout",
          "text": [
            "   Train Loss = 0.5890765175748217   Test Loss = 0.6289122700691223\n"
          ]
        },
        {
          "output_type": "stream",
          "name": "stderr",
          "text": [
            "815955it [2:22:19, 78.77it/s]"
          ]
        },
        {
          "output_type": "stream",
          "name": "stdout",
          "text": [
            "   Train Loss = 0.5881264534616516   Test Loss = 0.6012808084487915\n"
          ]
        },
        {
          "output_type": "stream",
          "name": "stderr",
          "text": [
            "843149it [2:26:55, 81.85it/s]"
          ]
        },
        {
          "output_type": "stream",
          "name": "stdout",
          "text": [
            "   Train Loss = 0.587540688308883   Test Loss = 0.7065220475196838\n"
          ]
        },
        {
          "output_type": "stream",
          "name": "stderr",
          "text": [
            "870355it [2:31:32, 83.14it/s]"
          ]
        },
        {
          "output_type": "stream",
          "name": "stdout",
          "text": [
            "   Train Loss = 0.5866770491511324   Test Loss = 0.6477025747299194\n"
          ]
        },
        {
          "output_type": "stream",
          "name": "stderr",
          "text": [
            "897544it [2:36:07, 78.83it/s]"
          ]
        },
        {
          "output_type": "stream",
          "name": "stdout",
          "text": [
            "   Train Loss = 0.5857898917774285   Test Loss = 0.6128305196762085\n"
          ]
        },
        {
          "output_type": "stream",
          "name": "stderr",
          "text": [
            "924743it [2:40:42, 80.88it/s] "
          ]
        },
        {
          "output_type": "stream",
          "name": "stdout",
          "text": [
            "   Train Loss = 0.585263981381903   Test Loss = 0.6391057968139648\n"
          ]
        },
        {
          "output_type": "stream",
          "name": "stderr",
          "text": [
            "951943it [2:45:20, 87.48it/s]"
          ]
        },
        {
          "output_type": "stream",
          "name": "stdout",
          "text": [
            "   Train Loss = 0.5845715404740238   Test Loss = 0.6028215885162354\n"
          ]
        },
        {
          "output_type": "stream",
          "name": "stderr",
          "text": [
            "979144it [2:49:56, 83.94it/s]"
          ]
        },
        {
          "output_type": "stream",
          "name": "stdout",
          "text": [
            "   Train Loss = 0.5836911692725568   Test Loss = 0.6873929500579834\n"
          ]
        },
        {
          "output_type": "stream",
          "name": "stderr",
          "text": [
            "1006343it [2:54:41, 81.39it/s]"
          ]
        },
        {
          "output_type": "stream",
          "name": "stdout",
          "text": [
            "   Train Loss = 0.5830719759380285   Test Loss = 0.7099842429161072\n"
          ]
        },
        {
          "output_type": "stream",
          "name": "stderr",
          "text": [
            "1033541it [2:59:25, 75.33it/s]"
          ]
        },
        {
          "output_type": "stream",
          "name": "stdout",
          "text": [
            "   Train Loss = 0.5824753313662769   Test Loss = 0.5914260149002075\n"
          ]
        },
        {
          "output_type": "stream",
          "name": "stderr",
          "text": [
            "1060732it [3:04:10, 77.13it/s]"
          ]
        },
        {
          "output_type": "stream",
          "name": "stdout",
          "text": [
            "   Train Loss = 0.5816572206021583   Test Loss = 0.6039102077484131\n"
          ]
        },
        {
          "output_type": "stream",
          "name": "stderr",
          "text": [
            "1087933it [3:08:54, 78.37it/s]"
          ]
        },
        {
          "output_type": "stream",
          "name": "stdout",
          "text": [
            "   Train Loss = 0.5811074329339474   Test Loss = 0.6709990501403809\n"
          ]
        },
        {
          "output_type": "stream",
          "name": "stderr",
          "text": [
            "1115130it [3:13:37, 83.08it/s]"
          ]
        },
        {
          "output_type": "stream",
          "name": "stdout",
          "text": [
            "   Train Loss = 0.5804033585879477   Test Loss = 0.6788896918296814\n"
          ]
        },
        {
          "output_type": "stream",
          "name": "stderr",
          "text": [
            "1142327it [3:18:23, 83.50it/s]"
          ]
        },
        {
          "output_type": "stream",
          "name": "stdout",
          "text": [
            "   Train Loss = 0.5798653120748768   Test Loss = 0.7511247992515564\n"
          ]
        },
        {
          "output_type": "stream",
          "name": "stderr",
          "text": [
            "1169523it [3:23:10, 73.82it/s]"
          ]
        },
        {
          "output_type": "stream",
          "name": "stdout",
          "text": [
            "   Train Loss = 0.5793991846252482   Test Loss = 0.5791566371917725\n"
          ]
        },
        {
          "output_type": "stream",
          "name": "stderr",
          "text": [
            "1196720it [3:27:56, 75.96it/s]"
          ]
        },
        {
          "output_type": "stream",
          "name": "stdout",
          "text": [
            "   Train Loss = 0.5786151124393337   Test Loss = 0.6250744462013245\n"
          ]
        },
        {
          "output_type": "stream",
          "name": "stderr",
          "text": [
            "1223923it [3:32:40, 81.88it/s]"
          ]
        },
        {
          "output_type": "stream",
          "name": "stdout",
          "text": [
            "   Train Loss = 0.578108842447055   Test Loss = 0.542273223400116\n"
          ]
        },
        {
          "output_type": "stream",
          "name": "stderr",
          "text": [
            "1251116it [3:37:26, 76.24it/s]"
          ]
        },
        {
          "output_type": "stream",
          "name": "stdout",
          "text": [
            "   Train Loss = 0.5775159679709905   Test Loss = 0.5391541719436646\n"
          ]
        },
        {
          "output_type": "stream",
          "name": "stderr",
          "text": [
            "1278321it [3:42:12, 81.66it/s]"
          ]
        },
        {
          "output_type": "stream",
          "name": "stdout",
          "text": [
            "   Train Loss = 0.5769032735633135   Test Loss = 0.6168952584266663\n"
          ]
        },
        {
          "output_type": "stream",
          "name": "stderr",
          "text": [
            "1305516it [3:46:55, 81.21it/s]"
          ]
        },
        {
          "output_type": "stream",
          "name": "stdout",
          "text": [
            "   Train Loss = 0.5763245818281675   Test Loss = 0.6468961834907532\n"
          ]
        },
        {
          "output_type": "stream",
          "name": "stderr",
          "text": [
            "1332720it [3:51:30, 85.46it/s]"
          ]
        },
        {
          "output_type": "stream",
          "name": "stdout",
          "text": [
            "   Train Loss = 0.5756215487466909   Test Loss = 0.5730951428413391\n"
          ]
        },
        {
          "output_type": "stream",
          "name": "stderr",
          "text": [
            "1359915it [3:56:04, 86.04it/s]"
          ]
        },
        {
          "output_type": "stream",
          "name": "stdout",
          "text": [
            "   Train Loss = 0.5751785086449371   Test Loss = 0.5124077796936035\n"
          ]
        },
        {
          "output_type": "stream",
          "name": "stderr",
          "text": [
            "1387112it [4:00:39, 81.42it/s]"
          ]
        },
        {
          "output_type": "stream",
          "name": "stdout",
          "text": [
            "   Train Loss = 0.5746010736083536   Test Loss = 0.6783881783485413\n"
          ]
        },
        {
          "output_type": "stream",
          "name": "stderr",
          "text": [
            "1414312it [4:05:12, 85.13it/s]"
          ]
        },
        {
          "output_type": "stream",
          "name": "stdout",
          "text": [
            "   Train Loss = 0.5742573485987021   Test Loss = 0.5777456760406494\n"
          ]
        },
        {
          "output_type": "stream",
          "name": "stderr",
          "text": [
            "1441513it [4:09:46, 88.07it/s]"
          ]
        },
        {
          "output_type": "stream",
          "name": "stdout",
          "text": [
            "   Train Loss = 0.5736310818465512   Test Loss = 0.6830353140830994\n"
          ]
        },
        {
          "output_type": "stream",
          "name": "stderr",
          "text": [
            "1468709it [4:14:21, 84.49it/s]"
          ]
        },
        {
          "output_type": "stream",
          "name": "stdout",
          "text": [
            "   Train Loss = 0.5730026248483344   Test Loss = 0.5347391366958618\n"
          ]
        },
        {
          "output_type": "stream",
          "name": "stderr",
          "text": [
            "1495904it [4:18:55, 82.35it/s]"
          ]
        },
        {
          "output_type": "stream",
          "name": "stdout",
          "text": [
            "   Train Loss = 0.5724677739401794   Test Loss = 0.6886290311813354\n"
          ]
        },
        {
          "output_type": "stream",
          "name": "stderr",
          "text": [
            "1523106it [4:23:30, 85.79it/s]"
          ]
        },
        {
          "output_type": "stream",
          "name": "stdout",
          "text": [
            "   Train Loss = 0.5720427225807044   Test Loss = 0.5725569725036621\n"
          ]
        },
        {
          "output_type": "stream",
          "name": "stderr",
          "text": [
            "1550304it [4:28:03, 89.67it/s]"
          ]
        },
        {
          "output_type": "stream",
          "name": "stdout",
          "text": [
            "   Train Loss = 0.5716548335930032   Test Loss = 0.6375606060028076\n"
          ]
        },
        {
          "output_type": "stream",
          "name": "stderr",
          "text": [
            "1577498it [4:32:38, 82.36it/s]"
          ]
        },
        {
          "output_type": "stream",
          "name": "stdout",
          "text": [
            "   Train Loss = 0.5711067693971064   Test Loss = 0.6432480216026306\n"
          ]
        },
        {
          "output_type": "stream",
          "name": "stderr",
          "text": [
            "1604698it [4:37:12, 86.45it/s]"
          ]
        },
        {
          "output_type": "stream",
          "name": "stdout",
          "text": [
            "   Train Loss = 0.5706504082905912   Test Loss = 0.6200816631317139\n"
          ]
        },
        {
          "output_type": "stream",
          "name": "stderr",
          "text": [
            "1631897it [4:41:49, 81.26it/s]"
          ]
        },
        {
          "output_type": "stream",
          "name": "stdout",
          "text": [
            "   Train Loss = 0.5702173499659902   Test Loss = 0.6756057143211365\n"
          ]
        },
        {
          "output_type": "stream",
          "name": "stderr",
          "text": [
            "1659092it [4:46:24, 85.10it/s]"
          ]
        },
        {
          "output_type": "stream",
          "name": "stdout",
          "text": [
            "   Train Loss = 0.5697158913339216   Test Loss = 0.5772179961204529\n"
          ]
        },
        {
          "output_type": "stream",
          "name": "stderr",
          "text": [
            "1686291it [4:50:59, 84.51it/s]"
          ]
        },
        {
          "output_type": "stream",
          "name": "stdout",
          "text": [
            "   Train Loss = 0.5695076025236231   Test Loss = 0.5730569362640381\n"
          ]
        },
        {
          "output_type": "stream",
          "name": "stderr",
          "text": [
            "1713487it [4:55:33, 82.04it/s]"
          ]
        },
        {
          "output_type": "stream",
          "name": "stdout",
          "text": [
            "   Train Loss = 0.5689178159354548   Test Loss = 0.5959444046020508\n"
          ]
        },
        {
          "output_type": "stream",
          "name": "stderr",
          "text": [
            "1740682it [5:00:09, 77.15it/s]"
          ]
        },
        {
          "output_type": "stream",
          "name": "stdout",
          "text": [
            "   Train Loss = 0.5684165727374255   Test Loss = 0.5707935094833374\n"
          ]
        },
        {
          "output_type": "stream",
          "name": "stderr",
          "text": [
            "1767889it [5:04:43, 84.00it/s]"
          ]
        },
        {
          "output_type": "stream",
          "name": "stdout",
          "text": [
            "   Train Loss = 0.5682239747063204   Test Loss = 0.6826424598693848\n"
          ]
        },
        {
          "output_type": "stream",
          "name": "stderr",
          "text": [
            "1795079it [5:09:19, 77.97it/s]"
          ]
        },
        {
          "output_type": "stream",
          "name": "stdout",
          "text": [
            "   Train Loss = 0.5677464292526105   Test Loss = 0.5202974677085876\n"
          ]
        },
        {
          "output_type": "stream",
          "name": "stderr",
          "text": [
            "1822278it [5:13:52, 78.93it/s]"
          ]
        },
        {
          "output_type": "stream",
          "name": "stdout",
          "text": [
            "   Train Loss = 0.567186516184554   Test Loss = 0.5642987489700317\n"
          ]
        },
        {
          "output_type": "stream",
          "name": "stderr",
          "text": [
            "1849476it [5:18:27, 85.74it/s]"
          ]
        },
        {
          "output_type": "stream",
          "name": "stdout",
          "text": [
            "   Train Loss = 0.5669391979074748   Test Loss = 0.5895224809646606\n"
          ]
        },
        {
          "output_type": "stream",
          "name": "stderr",
          "text": [
            "1876675it [5:23:02, 85.70it/s]"
          ]
        },
        {
          "output_type": "stream",
          "name": "stdout",
          "text": [
            "   Train Loss = 0.5664486905057358   Test Loss = 0.6251262426376343\n"
          ]
        },
        {
          "output_type": "stream",
          "name": "stderr",
          "text": [
            "1903875it [5:27:37, 82.15it/s]"
          ]
        },
        {
          "output_type": "stream",
          "name": "stdout",
          "text": [
            "   Train Loss = 0.5661779258240496   Test Loss = 0.5757289528846741\n"
          ]
        },
        {
          "output_type": "stream",
          "name": "stderr",
          "text": [
            "1931071it [5:32:13, 86.63it/s]"
          ]
        },
        {
          "output_type": "stream",
          "name": "stdout",
          "text": [
            "   Train Loss = 0.5657640411289433   Test Loss = 0.5015769004821777\n"
          ]
        },
        {
          "output_type": "stream",
          "name": "stderr",
          "text": [
            "1958268it [5:36:48, 80.12it/s]"
          ]
        },
        {
          "output_type": "stream",
          "name": "stdout",
          "text": [
            "   Train Loss = 0.5654002089422936   Test Loss = 0.6103361248970032\n"
          ]
        },
        {
          "output_type": "stream",
          "name": "stderr",
          "text": [
            "1985473it [5:41:22, 87.04it/s]"
          ]
        },
        {
          "output_type": "stream",
          "name": "stdout",
          "text": [
            "   Train Loss = 0.5650193215608684   Test Loss = 0.6275526285171509\n"
          ]
        },
        {
          "output_type": "stream",
          "name": "stderr",
          "text": [
            "2012667it [5:45:57, 85.17it/s]"
          ]
        },
        {
          "output_type": "stream",
          "name": "stdout",
          "text": [
            "   Train Loss = 0.5646160649450327   Test Loss = 0.5757009387016296\n"
          ]
        },
        {
          "output_type": "stream",
          "name": "stderr",
          "text": [
            "2039868it [5:50:31, 81.17it/s]"
          ]
        },
        {
          "output_type": "stream",
          "name": "stdout",
          "text": [
            "   Train Loss = 0.5644226051777704   Test Loss = 0.6394572257995605\n"
          ]
        },
        {
          "output_type": "stream",
          "name": "stderr",
          "text": [
            "2067067it [5:55:05, 86.33it/s]"
          ]
        },
        {
          "output_type": "stream",
          "name": "stdout",
          "text": [
            "   Train Loss = 0.5640948940983712   Test Loss = 0.5764966011047363\n"
          ]
        },
        {
          "output_type": "stream",
          "name": "stderr",
          "text": [
            "2094257it [5:59:40, 83.97it/s]"
          ]
        },
        {
          "output_type": "stream",
          "name": "stdout",
          "text": [
            "   Train Loss = 0.5637600377900029   Test Loss = 0.661751389503479\n"
          ]
        },
        {
          "output_type": "stream",
          "name": "stderr",
          "text": [
            "2121461it [6:04:13, 85.85it/s]"
          ]
        },
        {
          "output_type": "stream",
          "name": "stdout",
          "text": [
            "   Train Loss = 0.5633104269500515   Test Loss = 0.6444741487503052\n"
          ]
        },
        {
          "output_type": "stream",
          "name": "stderr",
          "text": [
            "2148660it [6:08:47, 81.52it/s]"
          ]
        },
        {
          "output_type": "stream",
          "name": "stdout",
          "text": [
            "   Train Loss = 0.5630450840250202   Test Loss = 0.6215410232543945\n"
          ]
        },
        {
          "output_type": "stream",
          "name": "stderr",
          "text": [
            "2175855it [6:13:23, 83.19it/s]"
          ]
        },
        {
          "output_type": "stream",
          "name": "stdout",
          "text": [
            "   Train Loss = 0.5626754710249835   Test Loss = 0.685329794883728\n"
          ]
        },
        {
          "output_type": "stream",
          "name": "stderr",
          "text": [
            "2203049it [6:18:00, 81.85it/s] "
          ]
        },
        {
          "output_type": "stream",
          "name": "stdout",
          "text": [
            "   Train Loss = 0.5624183145934444   Test Loss = 0.6700844764709473\n"
          ]
        },
        {
          "output_type": "stream",
          "name": "stderr",
          "text": [
            "2230253it [6:22:38, 85.85it/s]"
          ]
        },
        {
          "output_type": "stream",
          "name": "stdout",
          "text": [
            "   Train Loss = 0.5621130086541289   Test Loss = 0.6378304958343506\n"
          ]
        },
        {
          "output_type": "stream",
          "name": "stderr",
          "text": [
            "2257449it [6:27:14, 86.00it/s]"
          ]
        },
        {
          "output_type": "stream",
          "name": "stdout",
          "text": [
            "   Train Loss = 0.5617232166657474   Test Loss = 0.5531195402145386\n"
          ]
        },
        {
          "output_type": "stream",
          "name": "stderr",
          "text": [
            "2284643it [6:31:50, 83.70it/s]"
          ]
        },
        {
          "output_type": "stream",
          "name": "stdout",
          "text": [
            "   Train Loss = 0.5616468093931539   Test Loss = 0.5990724563598633\n"
          ]
        },
        {
          "output_type": "stream",
          "name": "stderr",
          "text": [
            "2311843it [6:36:25, 81.28it/s]"
          ]
        },
        {
          "output_type": "stream",
          "name": "stdout",
          "text": [
            "   Train Loss = 0.5612549707813994   Test Loss = 0.6808820366859436\n"
          ]
        },
        {
          "output_type": "stream",
          "name": "stderr",
          "text": [
            "2339044it [6:41:07, 85.05it/s]"
          ]
        },
        {
          "output_type": "stream",
          "name": "stdout",
          "text": [
            "   Train Loss = 0.5608612291689646   Test Loss = 0.596528172492981\n"
          ]
        },
        {
          "output_type": "stream",
          "name": "stderr",
          "text": [
            "2366237it [6:45:45, 80.77it/s] "
          ]
        },
        {
          "output_type": "stream",
          "name": "stdout",
          "text": [
            "   Train Loss = 0.5606457592240238   Test Loss = 0.6993439197540283\n"
          ]
        },
        {
          "output_type": "stream",
          "name": "stderr",
          "text": [
            "2393433it [6:50:21, 80.62it/s] "
          ]
        },
        {
          "output_type": "stream",
          "name": "stdout",
          "text": [
            "   Train Loss = 0.5604628916303589   Test Loss = 0.5875831842422485\n"
          ]
        },
        {
          "output_type": "stream",
          "name": "stderr",
          "text": [
            "2420640it [6:54:57, 86.13it/s]"
          ]
        },
        {
          "output_type": "stream",
          "name": "stdout",
          "text": [
            "   Train Loss = 0.5601468498947533   Test Loss = 0.5838948488235474\n"
          ]
        },
        {
          "output_type": "stream",
          "name": "stderr",
          "text": [
            "2447835it [6:59:36, 82.41it/s]"
          ]
        },
        {
          "output_type": "stream",
          "name": "stdout",
          "text": [
            "   Train Loss = 0.5599291897037466   Test Loss = 0.5294548869132996\n"
          ]
        },
        {
          "output_type": "stream",
          "name": "stderr",
          "text": [
            "2475034it [7:04:15, 86.74it/s]"
          ]
        },
        {
          "output_type": "stream",
          "name": "stdout",
          "text": [
            "   Train Loss = 0.5598252427798   Test Loss = 0.64150470495224\n"
          ]
        },
        {
          "output_type": "stream",
          "name": "stderr",
          "text": [
            "2502230it [7:08:54, 79.15it/s]"
          ]
        },
        {
          "output_type": "stream",
          "name": "stdout",
          "text": [
            "   Train Loss = 0.5595590740242848   Test Loss = 0.6341350078582764\n"
          ]
        },
        {
          "output_type": "stream",
          "name": "stderr",
          "text": [
            "2529429it [7:13:30, 84.73it/s]"
          ]
        },
        {
          "output_type": "stream",
          "name": "stdout",
          "text": [
            "   Train Loss = 0.5591510060482389   Test Loss = 0.6062216758728027\n"
          ]
        },
        {
          "output_type": "stream",
          "name": "stderr",
          "text": [
            "2556624it [7:18:06, 78.34it/s]"
          ]
        },
        {
          "output_type": "stream",
          "name": "stdout",
          "text": [
            "   Train Loss = 0.5590458383314031   Test Loss = 0.6294381618499756\n"
          ]
        },
        {
          "output_type": "stream",
          "name": "stderr",
          "text": [
            "2583826it [7:22:42, 81.28it/s]"
          ]
        },
        {
          "output_type": "stream",
          "name": "stdout",
          "text": [
            "   Train Loss = 0.5585610399317046   Test Loss = 0.6399659514427185\n"
          ]
        },
        {
          "output_type": "stream",
          "name": "stderr",
          "text": [
            "2611026it [7:27:17, 82.26it/s]"
          ]
        },
        {
          "output_type": "stream",
          "name": "stdout",
          "text": [
            "   Train Loss = 0.5586667821393118   Test Loss = 0.5789915919303894\n"
          ]
        },
        {
          "output_type": "stream",
          "name": "stderr",
          "text": [
            "2638220it [7:31:54, 85.53it/s]"
          ]
        },
        {
          "output_type": "stream",
          "name": "stdout",
          "text": [
            "   Train Loss = 0.5583353368698986   Test Loss = 0.5383045673370361\n"
          ]
        },
        {
          "output_type": "stream",
          "name": "stderr",
          "text": [
            "2665424it [7:36:28, 86.80it/s]"
          ]
        },
        {
          "output_type": "stream",
          "name": "stdout",
          "text": [
            "   Train Loss = 0.5582504917641004   Test Loss = 0.6472734808921814\n"
          ]
        },
        {
          "output_type": "stream",
          "name": "stderr",
          "text": [
            "2692613it [7:41:03, 83.95it/s]"
          ]
        },
        {
          "output_type": "stream",
          "name": "stdout",
          "text": [
            "   Train Loss = 0.5579597635281087   Test Loss = 0.6040694117546082\n"
          ]
        },
        {
          "output_type": "stream",
          "name": "stderr",
          "text": [
            "2719816it [7:45:40, 83.74it/s]"
          ]
        },
        {
          "output_type": "stream",
          "name": "stdout",
          "text": [
            "   Train Loss = 0.5576891783747886   Test Loss = 0.6114723682403564\n"
          ]
        },
        {
          "output_type": "stream",
          "name": "stderr",
          "text": [
            "2747009it [7:50:14, 82.15it/s] "
          ]
        },
        {
          "output_type": "stream",
          "name": "stdout",
          "text": [
            "   Train Loss = 0.5575960031528053   Test Loss = 0.6406912803649902\n"
          ]
        },
        {
          "output_type": "stream",
          "name": "stderr",
          "text": [
            "2774214it [7:54:49, 81.76it/s]"
          ]
        },
        {
          "output_type": "stream",
          "name": "stdout",
          "text": [
            "   Train Loss = 0.5575234018815721   Test Loss = 0.6791375875473022\n"
          ]
        },
        {
          "output_type": "stream",
          "name": "stderr",
          "text": [
            "2801404it [7:59:25, 80.70it/s] "
          ]
        },
        {
          "output_type": "stream",
          "name": "stdout",
          "text": [
            "   Train Loss = 0.5571094094694463   Test Loss = 0.5460413694381714\n"
          ]
        },
        {
          "output_type": "stream",
          "name": "stderr",
          "text": [
            "2828608it [8:04:00, 81.32it/s]"
          ]
        },
        {
          "output_type": "stream",
          "name": "stdout",
          "text": [
            "   Train Loss = 0.5567160987250901   Test Loss = 0.6481296420097351\n"
          ]
        },
        {
          "output_type": "stream",
          "name": "stderr",
          "text": [
            "2855807it [8:08:37, 78.97it/s]"
          ]
        },
        {
          "output_type": "stream",
          "name": "stdout",
          "text": [
            "   Train Loss = 0.5567477316231892   Test Loss = 0.600760817527771\n"
          ]
        },
        {
          "output_type": "stream",
          "name": "stderr",
          "text": [
            "2882999it [8:13:11, 81.41it/s] "
          ]
        },
        {
          "output_type": "stream",
          "name": "stdout",
          "text": [
            "   Train Loss = 0.5564307204344069   Test Loss = 0.701995849609375\n"
          ]
        },
        {
          "output_type": "stream",
          "name": "stderr",
          "text": [
            "2910196it [8:17:50, 78.31it/s]"
          ]
        },
        {
          "output_type": "stream",
          "name": "stdout",
          "text": [
            "   Train Loss = 0.5561790575708692   Test Loss = 0.6874422430992126\n"
          ]
        },
        {
          "output_type": "stream",
          "name": "stderr",
          "text": [
            "2937397it [8:22:27, 82.03it/s]"
          ]
        },
        {
          "output_type": "stream",
          "name": "stdout",
          "text": [
            "   Train Loss = 0.5561334932715641   Test Loss = 0.6917954087257385\n"
          ]
        },
        {
          "output_type": "stream",
          "name": "stderr",
          "text": [
            "2964602it [8:27:06, 86.80it/s]"
          ]
        },
        {
          "output_type": "stream",
          "name": "stdout",
          "text": [
            "   Train Loss = 0.5557925689044231   Test Loss = 0.6583684682846069\n"
          ]
        },
        {
          "output_type": "stream",
          "name": "stderr",
          "text": [
            "2991797it [8:31:47, 85.26it/s]"
          ]
        },
        {
          "output_type": "stream",
          "name": "stdout",
          "text": [
            "   Train Loss = 0.5557793197110081   Test Loss = 0.6111269593238831\n"
          ]
        },
        {
          "output_type": "stream",
          "name": "stderr",
          "text": [
            "3018995it [8:36:24, 84.37it/s]"
          ]
        },
        {
          "output_type": "stream",
          "name": "stdout",
          "text": [
            "   Train Loss = 0.5555476563074491   Test Loss = 0.5715705752372742\n"
          ]
        },
        {
          "output_type": "stream",
          "name": "stderr",
          "text": [
            "3046196it [8:40:59, 84.25it/s]"
          ]
        },
        {
          "output_type": "stream",
          "name": "stdout",
          "text": [
            "   Train Loss = 0.555249387880083   Test Loss = 0.7603727579116821\n"
          ]
        },
        {
          "output_type": "stream",
          "name": "stderr",
          "text": [
            "3073385it [8:45:33, 84.25it/s]"
          ]
        },
        {
          "output_type": "stream",
          "name": "stdout",
          "text": [
            "   Train Loss = 0.5551906461987095   Test Loss = 0.5576364994049072\n"
          ]
        },
        {
          "output_type": "stream",
          "name": "stderr",
          "text": [
            "3100585it [8:50:08, 78.72it/s]"
          ]
        },
        {
          "output_type": "stream",
          "name": "stdout",
          "text": [
            "   Train Loss = 0.5551950266908412   Test Loss = 0.7021588683128357\n"
          ]
        },
        {
          "output_type": "stream",
          "name": "stderr",
          "text": [
            "3127783it [8:54:44, 86.92it/s]"
          ]
        },
        {
          "output_type": "stream",
          "name": "stdout",
          "text": [
            "   Train Loss = 0.5550033263015663   Test Loss = 0.6413666009902954\n"
          ]
        },
        {
          "output_type": "stream",
          "name": "stderr",
          "text": [
            "3154984it [8:59:17, 83.88it/s]"
          ]
        },
        {
          "output_type": "stream",
          "name": "stdout",
          "text": [
            "   Train Loss = 0.5547995616060923   Test Loss = 0.6536392569541931\n"
          ]
        },
        {
          "output_type": "stream",
          "name": "stderr",
          "text": [
            "3182182it [9:03:52, 88.24it/s]"
          ]
        },
        {
          "output_type": "stream",
          "name": "stdout",
          "text": [
            "   Train Loss = 0.5546236597130304   Test Loss = 0.6362428665161133\n"
          ]
        },
        {
          "output_type": "stream",
          "name": "stderr",
          "text": [
            "3209379it [9:08:29, 83.53it/s]"
          ]
        },
        {
          "output_type": "stream",
          "name": "stdout",
          "text": [
            "   Train Loss = 0.5546420075120413   Test Loss = 0.6070808172225952\n"
          ]
        },
        {
          "output_type": "stream",
          "name": "stderr",
          "text": [
            "3236571it [9:13:07, 72.77it/s]"
          ]
        },
        {
          "output_type": "stream",
          "name": "stdout",
          "text": [
            "   Train Loss = 0.5542983184080631   Test Loss = 0.6473047137260437\n"
          ]
        },
        {
          "output_type": "stream",
          "name": "stderr",
          "text": [
            "3263770it [9:17:42, 82.73it/s]"
          ]
        },
        {
          "output_type": "stream",
          "name": "stdout",
          "text": [
            "   Train Loss = 0.5542924298776565   Test Loss = 0.5287644863128662\n"
          ]
        },
        {
          "output_type": "stream",
          "name": "stderr",
          "text": [
            "3290977it [9:22:18, 83.29it/s]"
          ]
        },
        {
          "output_type": "stream",
          "name": "stdout",
          "text": [
            "   Train Loss = 0.5540605151343849   Test Loss = 0.6325180530548096\n"
          ]
        },
        {
          "output_type": "stream",
          "name": "stderr",
          "text": [
            "3318169it [9:26:54, 82.91it/s]"
          ]
        },
        {
          "output_type": "stream",
          "name": "stdout",
          "text": [
            "   Train Loss = 0.5538408083200052   Test Loss = 0.6665778756141663\n"
          ]
        },
        {
          "output_type": "stream",
          "name": "stderr",
          "text": [
            "3345364it [9:31:29, 78.98it/s]"
          ]
        },
        {
          "output_type": "stream",
          "name": "stdout",
          "text": [
            "   Train Loss = 0.5537119069531767   Test Loss = 0.6278539896011353\n"
          ]
        },
        {
          "output_type": "stream",
          "name": "stderr",
          "text": [
            "3372569it [9:36:05, 85.45it/s]"
          ]
        },
        {
          "output_type": "stream",
          "name": "stdout",
          "text": [
            "   Train Loss = 0.5535662376369586   Test Loss = 0.6540291905403137\n"
          ]
        },
        {
          "output_type": "stream",
          "name": "stderr",
          "text": [
            "3399759it [9:40:42, 74.22it/s]"
          ]
        },
        {
          "output_type": "stream",
          "name": "stdout",
          "text": [
            "   Train Loss = 0.5535244793390139   Test Loss = 0.6581692695617676\n"
          ]
        },
        {
          "output_type": "stream",
          "name": "stderr",
          "text": [
            "3426963it [9:45:20, 85.13it/s]"
          ]
        },
        {
          "output_type": "stream",
          "name": "stdout",
          "text": [
            "   Train Loss = 0.5531928545412347   Test Loss = 0.5929070115089417\n"
          ]
        },
        {
          "output_type": "stream",
          "name": "stderr",
          "text": [
            "3454165it [9:49:57, 84.24it/s]"
          ]
        },
        {
          "output_type": "stream",
          "name": "stdout",
          "text": [
            "   Train Loss = 0.5533082553749357   Test Loss = 0.7131639122962952\n"
          ]
        },
        {
          "output_type": "stream",
          "name": "stderr",
          "text": [
            "3481358it [9:54:35, 83.57it/s]"
          ]
        },
        {
          "output_type": "stream",
          "name": "stdout",
          "text": [
            "   Train Loss = 0.5529232029354181   Test Loss = 0.6783207654953003\n"
          ]
        },
        {
          "output_type": "stream",
          "name": "stderr",
          "text": [
            "3508561it [9:59:12, 86.62it/s]"
          ]
        },
        {
          "output_type": "stream",
          "name": "stdout",
          "text": [
            "   Train Loss = 0.5529728604814692   Test Loss = 0.5865834951400757\n"
          ]
        },
        {
          "output_type": "stream",
          "name": "stderr",
          "text": [
            "3535749it [10:03:51, 80.22it/s] "
          ]
        },
        {
          "output_type": "stream",
          "name": "stdout",
          "text": [
            "   Train Loss = 0.552652617782098   Test Loss = 0.661020040512085\n"
          ]
        },
        {
          "output_type": "stream",
          "name": "stderr",
          "text": [
            "3562955it [10:08:28, 81.27it/s]"
          ]
        },
        {
          "output_type": "stream",
          "name": "stdout",
          "text": [
            "   Train Loss = 0.5526215593747702   Test Loss = 0.803040087223053\n"
          ]
        },
        {
          "output_type": "stream",
          "name": "stderr",
          "text": [
            "3590150it [10:13:05, 86.04it/s]"
          ]
        },
        {
          "output_type": "stream",
          "name": "stdout",
          "text": [
            "   Train Loss = 0.5526397276454151   Test Loss = 0.588029146194458\n"
          ]
        },
        {
          "output_type": "stream",
          "name": "stderr",
          "text": [
            "3617351it [10:17:41, 83.29it/s]"
          ]
        },
        {
          "output_type": "stream",
          "name": "stdout",
          "text": [
            "   Train Loss = 0.5523566114121443   Test Loss = 0.6008473038673401\n"
          ]
        },
        {
          "output_type": "stream",
          "name": "stderr",
          "text": [
            "3644546it [10:22:18, 81.12it/s]"
          ]
        },
        {
          "output_type": "stream",
          "name": "stdout",
          "text": [
            "   Train Loss = 0.5524210980012317   Test Loss = 0.5730289220809937\n"
          ]
        },
        {
          "output_type": "stream",
          "name": "stderr",
          "text": [
            "3671748it [10:26:54, 82.65it/s]"
          ]
        },
        {
          "output_type": "stream",
          "name": "stdout",
          "text": [
            "   Train Loss = 0.552306271658302   Test Loss = 0.6566879749298096\n"
          ]
        },
        {
          "output_type": "stream",
          "name": "stderr",
          "text": [
            "3698944it [10:31:30, 81.19it/s]"
          ]
        },
        {
          "output_type": "stream",
          "name": "stdout",
          "text": [
            "   Train Loss = 0.5521523081315721   Test Loss = 0.6858247518539429\n"
          ]
        },
        {
          "output_type": "stream",
          "name": "stderr",
          "text": [
            "3726141it [10:36:05, 85.80it/s]"
          ]
        },
        {
          "output_type": "stream",
          "name": "stdout",
          "text": [
            "   Train Loss = 0.5518994962864917   Test Loss = 0.5899118185043335\n"
          ]
        },
        {
          "output_type": "stream",
          "name": "stderr",
          "text": [
            "3753331it [10:40:42, 76.08it/s]"
          ]
        },
        {
          "output_type": "stream",
          "name": "stdout",
          "text": [
            "   Train Loss = 0.5521281077078278   Test Loss = 0.6810668706893921\n"
          ]
        },
        {
          "output_type": "stream",
          "name": "stderr",
          "text": [
            "3780532it [10:45:18, 78.59it/s]"
          ]
        },
        {
          "output_type": "stream",
          "name": "stdout",
          "text": [
            "   Train Loss = 0.5517059288022097   Test Loss = 0.7075697183609009\n"
          ]
        },
        {
          "output_type": "stream",
          "name": "stderr",
          "text": [
            "3807737it [10:49:54, 82.41it/s]"
          ]
        },
        {
          "output_type": "stream",
          "name": "stdout",
          "text": [
            "   Train Loss = 0.5520131736478785   Test Loss = 0.6925997138023376\n"
          ]
        },
        {
          "output_type": "stream",
          "name": "stderr",
          "text": [
            "3834935it [10:54:31, 85.67it/s]"
          ]
        },
        {
          "output_type": "stream",
          "name": "stdout",
          "text": [
            "   Train Loss = 0.5516301678317339   Test Loss = 0.5424004197120667\n"
          ]
        },
        {
          "output_type": "stream",
          "name": "stderr",
          "text": [
            "3862130it [10:59:06, 81.51it/s]"
          ]
        },
        {
          "output_type": "stream",
          "name": "stdout",
          "text": [
            "   Train Loss = 0.55166758154322   Test Loss = 0.585730254650116\n"
          ]
        },
        {
          "output_type": "stream",
          "name": "stderr",
          "text": [
            "3889331it [11:03:42, 86.70it/s]"
          ]
        },
        {
          "output_type": "stream",
          "name": "stdout",
          "text": [
            "   Train Loss = 0.5517026613859475   Test Loss = 0.5874642133712769\n"
          ]
        },
        {
          "output_type": "stream",
          "name": "stderr",
          "text": [
            "3916523it [11:08:21, 82.34it/s]"
          ]
        },
        {
          "output_type": "stream",
          "name": "stdout",
          "text": [
            "   Train Loss = 0.5515634550909074   Test Loss = 0.651884913444519\n"
          ]
        },
        {
          "output_type": "stream",
          "name": "stderr",
          "text": [
            "3943721it [11:13:03, 81.64it/s]"
          ]
        },
        {
          "output_type": "stream",
          "name": "stdout",
          "text": [
            "   Train Loss = 0.5512032134715787   Test Loss = 0.5801231861114502\n"
          ]
        },
        {
          "output_type": "stream",
          "name": "stderr",
          "text": [
            "3970923it [11:17:44, 86.01it/s]"
          ]
        },
        {
          "output_type": "stream",
          "name": "stdout",
          "text": [
            "   Train Loss = 0.5510517992476469   Test Loss = 0.6083563566207886\n"
          ]
        },
        {
          "output_type": "stream",
          "name": "stderr",
          "text": [
            "3998121it [11:22:24, 76.44it/s]"
          ]
        },
        {
          "output_type": "stream",
          "name": "stdout",
          "text": [
            "   Train Loss = 0.5508828630551879   Test Loss = 0.6629072427749634\n"
          ]
        },
        {
          "output_type": "stream",
          "name": "stderr",
          "text": [
            "4025315it [11:27:04, 79.42it/s]"
          ]
        },
        {
          "output_type": "stream",
          "name": "stdout",
          "text": [
            "   Train Loss = 0.550975176541014   Test Loss = 0.624086856842041\n"
          ]
        },
        {
          "output_type": "stream",
          "name": "stderr",
          "text": [
            "4052513it [11:31:44, 81.14it/s]"
          ]
        },
        {
          "output_type": "stream",
          "name": "stdout",
          "text": [
            "   Train Loss = 0.5509572955157548   Test Loss = 0.6149874925613403\n"
          ]
        },
        {
          "output_type": "stream",
          "name": "stderr",
          "text": [
            "4079711it [11:36:21, 85.16it/s]"
          ]
        },
        {
          "output_type": "stream",
          "name": "stdout",
          "text": [
            "   Train Loss = 0.5507649488243621   Test Loss = 0.6422722339630127\n"
          ]
        },
        {
          "output_type": "stream",
          "name": "stderr",
          "text": [
            "4106908it [11:40:56, 75.26it/s]"
          ]
        },
        {
          "output_type": "stream",
          "name": "stdout",
          "text": [
            "   Train Loss = 0.5505928529326605   Test Loss = 0.6337156295776367\n"
          ]
        },
        {
          "output_type": "stream",
          "name": "stderr",
          "text": [
            "4134108it [11:45:32, 81.79it/s]"
          ]
        },
        {
          "output_type": "stream",
          "name": "stdout",
          "text": [
            "   Train Loss = 0.5505053508070447   Test Loss = 0.656219482421875\n"
          ]
        },
        {
          "output_type": "stream",
          "name": "stderr",
          "text": [
            "4161309it [11:50:09, 86.97it/s]"
          ]
        },
        {
          "output_type": "stream",
          "name": "stdout",
          "text": [
            "   Train Loss = 0.5502229526872381   Test Loss = 0.628804087638855\n"
          ]
        },
        {
          "output_type": "stream",
          "name": "stderr",
          "text": [
            "4188507it [11:54:44, 84.67it/s]"
          ]
        },
        {
          "output_type": "stream",
          "name": "stdout",
          "text": [
            "   Train Loss = 0.550279540028219   Test Loss = 0.5869821310043335\n"
          ]
        },
        {
          "output_type": "stream",
          "name": "stderr",
          "text": [
            "4215707it [11:59:19, 84.22it/s]"
          ]
        },
        {
          "output_type": "stream",
          "name": "stdout",
          "text": [
            "   Train Loss = 0.550112470930767   Test Loss = 0.6404597163200378\n"
          ]
        },
        {
          "output_type": "stream",
          "name": "stderr",
          "text": [
            "4242907it [12:03:53, 84.93it/s]"
          ]
        },
        {
          "output_type": "stream",
          "name": "stdout",
          "text": [
            "   Train Loss = 0.5501147329881793   Test Loss = 0.6470451951026917\n"
          ]
        },
        {
          "output_type": "stream",
          "name": "stderr",
          "text": [
            "4270105it [12:08:27, 86.22it/s]"
          ]
        },
        {
          "output_type": "stream",
          "name": "stdout",
          "text": [
            "   Train Loss = 0.5501417699601073   Test Loss = 0.6119113564491272\n"
          ]
        },
        {
          "output_type": "stream",
          "name": "stderr",
          "text": [
            "4297298it [12:13:02, 81.33it/s]"
          ]
        },
        {
          "output_type": "stream",
          "name": "stdout",
          "text": [
            "   Train Loss = 0.5499449350595632   Test Loss = 0.7937740087509155\n"
          ]
        },
        {
          "output_type": "stream",
          "name": "stderr",
          "text": [
            "4324494it [12:17:39, 78.24it/s]"
          ]
        },
        {
          "output_type": "stream",
          "name": "stdout",
          "text": [
            "   Train Loss = 0.5498580433303919   Test Loss = 0.6243206262588501\n"
          ]
        },
        {
          "output_type": "stream",
          "name": "stderr",
          "text": [
            "4351690it [12:22:19, 75.28it/s]"
          ]
        },
        {
          "output_type": "stream",
          "name": "stdout",
          "text": [
            "   Train Loss = 0.5497600926538716   Test Loss = 0.6488218307495117\n"
          ]
        },
        {
          "output_type": "stream",
          "name": "stderr",
          "text": [
            "4378896it [12:26:58, 78.43it/s]"
          ]
        },
        {
          "output_type": "stream",
          "name": "stdout",
          "text": [
            "   Train Loss = 0.5498667325033091   Test Loss = 0.8390804529190063\n"
          ]
        },
        {
          "output_type": "stream",
          "name": "stderr",
          "text": [
            "4406087it [12:31:34, 84.50it/s]"
          ]
        },
        {
          "output_type": "stream",
          "name": "stdout",
          "text": [
            "   Train Loss = 0.5495549635428156   Test Loss = 0.6217153072357178\n"
          ]
        },
        {
          "output_type": "stream",
          "name": "stderr",
          "text": [
            "4433287it [12:36:08, 82.99it/s]"
          ]
        },
        {
          "output_type": "stream",
          "name": "stdout",
          "text": [
            "   Train Loss = 0.5495641194894845   Test Loss = 0.5726687908172607\n"
          ]
        },
        {
          "output_type": "stream",
          "name": "stderr",
          "text": [
            "4460481it [12:40:42, 79.17it/s]"
          ]
        },
        {
          "output_type": "stream",
          "name": "stdout",
          "text": [
            "   Train Loss = 0.54940563184793   Test Loss = 0.635964035987854\n"
          ]
        },
        {
          "output_type": "stream",
          "name": "stderr",
          "text": [
            "4487678it [12:45:16, 77.62it/s]"
          ]
        },
        {
          "output_type": "stream",
          "name": "stdout",
          "text": [
            "   Train Loss = 0.5492862454845026   Test Loss = 0.6920170187950134\n"
          ]
        },
        {
          "output_type": "stream",
          "name": "stderr",
          "text": [
            "4514884it [12:49:51, 86.95it/s]"
          ]
        },
        {
          "output_type": "stream",
          "name": "stdout",
          "text": [
            "   Train Loss = 0.5495296141375285   Test Loss = 0.6404405832290649\n"
          ]
        },
        {
          "output_type": "stream",
          "name": "stderr",
          "text": [
            "4542080it [12:54:25, 86.65it/s]"
          ]
        },
        {
          "output_type": "stream",
          "name": "stdout",
          "text": [
            "   Train Loss = 0.5493910900502794   Test Loss = 0.5789883136749268\n"
          ]
        },
        {
          "output_type": "stream",
          "name": "stderr",
          "text": [
            "4569275it [12:58:59, 85.01it/s]"
          ]
        },
        {
          "output_type": "stream",
          "name": "stdout",
          "text": [
            "   Train Loss = 0.5490103462915472   Test Loss = 0.5964022874832153\n"
          ]
        },
        {
          "output_type": "stream",
          "name": "stderr",
          "text": [
            "4596472it [13:03:33, 79.86it/s] "
          ]
        },
        {
          "output_type": "stream",
          "name": "stdout",
          "text": [
            "   Train Loss = 0.5492019389638025   Test Loss = 0.6241530179977417\n"
          ]
        },
        {
          "output_type": "stream",
          "name": "stderr",
          "text": [
            "4623674it [13:08:07, 83.23it/s]"
          ]
        },
        {
          "output_type": "stream",
          "name": "stdout",
          "text": [
            "   Train Loss = 0.5487901727034157   Test Loss = 0.6163330078125\n"
          ]
        },
        {
          "output_type": "stream",
          "name": "stderr",
          "text": [
            "4650874it [13:12:40, 87.44it/s]"
          ]
        },
        {
          "output_type": "stream",
          "name": "stdout",
          "text": [
            "   Train Loss = 0.5490971303036988   Test Loss = 0.7081503868103027\n"
          ]
        },
        {
          "output_type": "stream",
          "name": "stderr",
          "text": [
            "4678073it [13:17:14, 85.34it/s]"
          ]
        },
        {
          "output_type": "stream",
          "name": "stdout",
          "text": [
            "   Train Loss = 0.5489257166197882   Test Loss = 0.5983193516731262\n"
          ]
        },
        {
          "output_type": "stream",
          "name": "stderr",
          "text": [
            "4705264it [13:21:48, 78.36it/s]"
          ]
        },
        {
          "output_type": "stream",
          "name": "stdout",
          "text": [
            "   Train Loss = 0.5487553801060739   Test Loss = 0.6275169253349304\n"
          ]
        },
        {
          "output_type": "stream",
          "name": "stderr",
          "text": [
            "4732472it [13:26:26, 86.89it/s]"
          ]
        },
        {
          "output_type": "stream",
          "name": "stdout",
          "text": [
            "   Train Loss = 0.5486361732710126   Test Loss = 0.7813224792480469\n"
          ]
        },
        {
          "output_type": "stream",
          "name": "stderr",
          "text": [
            "4759668it [13:31:02, 84.30it/s]"
          ]
        },
        {
          "output_type": "stream",
          "name": "stdout",
          "text": [
            "   Train Loss = 0.5485614535650599   Test Loss = 0.719597339630127\n"
          ]
        },
        {
          "output_type": "stream",
          "name": "stderr",
          "text": [
            "4786859it [13:35:48, 79.17it/s]"
          ]
        },
        {
          "output_type": "stream",
          "name": "stdout",
          "text": [
            "   Train Loss = 0.5484285307628318   Test Loss = 0.5581170320510864\n"
          ]
        },
        {
          "output_type": "stream",
          "name": "stderr",
          "text": [
            "4814065it [13:40:35, 81.38it/s]"
          ]
        },
        {
          "output_type": "stream",
          "name": "stdout",
          "text": [
            "   Train Loss = 0.5485614176593867   Test Loss = 0.6135375499725342\n"
          ]
        },
        {
          "output_type": "stream",
          "name": "stderr",
          "text": [
            "4841255it [13:45:24, 82.53it/s]"
          ]
        },
        {
          "output_type": "stream",
          "name": "stdout",
          "text": [
            "   Train Loss = 0.5485344524988051   Test Loss = 0.638349175453186\n"
          ]
        },
        {
          "output_type": "stream",
          "name": "stderr",
          "text": [
            "4868461it [13:50:10, 81.90it/s]"
          ]
        },
        {
          "output_type": "stream",
          "name": "stdout",
          "text": [
            "   Train Loss = 0.5481533496833407   Test Loss = 0.795306921005249\n"
          ]
        },
        {
          "output_type": "stream",
          "name": "stderr",
          "text": [
            "4895652it [13:54:47, 82.97it/s]"
          ]
        },
        {
          "output_type": "stream",
          "name": "stdout",
          "text": [
            "   Train Loss = 0.5481998475301493   Test Loss = 0.6545627117156982\n"
          ]
        },
        {
          "output_type": "stream",
          "name": "stderr",
          "text": [
            "4922851it [13:59:24, 82.42it/s]"
          ]
        },
        {
          "output_type": "stream",
          "name": "stdout",
          "text": [
            "   Train Loss = 0.5480376975099271   Test Loss = 0.5664505362510681\n"
          ]
        },
        {
          "output_type": "stream",
          "name": "stderr",
          "text": [
            "4950042it [14:04:02, 76.39it/s]"
          ]
        },
        {
          "output_type": "stream",
          "name": "stdout",
          "text": [
            "   Train Loss = 0.5482100088356681   Test Loss = 0.6327787041664124\n"
          ]
        },
        {
          "output_type": "stream",
          "name": "stderr",
          "text": [
            "4977245it [14:08:37, 81.08it/s]"
          ]
        },
        {
          "output_type": "stream",
          "name": "stdout",
          "text": [
            "   Train Loss = 0.5481440142083057   Test Loss = 0.6627554297447205\n"
          ]
        },
        {
          "output_type": "stream",
          "name": "stderr",
          "text": [
            "5004450it [14:13:13, 83.83it/s]"
          ]
        },
        {
          "output_type": "stream",
          "name": "stdout",
          "text": [
            "   Train Loss = 0.5477821568336826   Test Loss = 0.66868656873703\n"
          ]
        },
        {
          "output_type": "stream",
          "name": "stderr",
          "text": [
            "5031640it [14:17:50, 74.78it/s]"
          ]
        },
        {
          "output_type": "stream",
          "name": "stdout",
          "text": [
            "   Train Loss = 0.5479094783508898   Test Loss = 0.5623871088027954\n"
          ]
        },
        {
          "output_type": "stream",
          "name": "stderr",
          "text": [
            "5058837it [14:22:28, 76.29it/s]"
          ]
        },
        {
          "output_type": "stream",
          "name": "stdout",
          "text": [
            "   Train Loss = 0.5479538936686521   Test Loss = 0.7297197580337524\n"
          ]
        },
        {
          "output_type": "stream",
          "name": "stderr",
          "text": [
            "5086043it [14:27:04, 86.78it/s]"
          ]
        },
        {
          "output_type": "stream",
          "name": "stdout",
          "text": [
            "   Train Loss = 0.5479325656987646   Test Loss = 0.6135281324386597\n"
          ]
        },
        {
          "output_type": "stream",
          "name": "stderr",
          "text": [
            "5113236it [14:31:38, 82.01it/s]"
          ]
        },
        {
          "output_type": "stream",
          "name": "stdout",
          "text": [
            "   Train Loss = 0.5475870094997793   Test Loss = 0.6406891942024231\n"
          ]
        },
        {
          "output_type": "stream",
          "name": "stderr",
          "text": [
            "5140438it [14:36:15, 84.02it/s]"
          ]
        },
        {
          "output_type": "stream",
          "name": "stdout",
          "text": [
            "   Train Loss = 0.5476064703746599   Test Loss = 0.6175955533981323\n"
          ]
        },
        {
          "output_type": "stream",
          "name": "stderr",
          "text": [
            "5167637it [14:40:51, 84.27it/s]"
          ]
        },
        {
          "output_type": "stream",
          "name": "stdout",
          "text": [
            "   Train Loss = 0.5475072629995772   Test Loss = 0.6120297312736511\n"
          ]
        },
        {
          "output_type": "stream",
          "name": "stderr",
          "text": [
            "5194825it [14:45:38, 72.94it/s]"
          ]
        },
        {
          "output_type": "stream",
          "name": "stdout",
          "text": [
            "   Train Loss = 0.5474075888507427   Test Loss = 0.5824121236801147\n"
          ]
        },
        {
          "output_type": "stream",
          "name": "stderr",
          "text": [
            "5222027it [14:50:26, 81.32it/s]"
          ]
        },
        {
          "output_type": "stream",
          "name": "stdout",
          "text": [
            "   Train Loss = 0.5474402989190381   Test Loss = 0.624275267124176\n"
          ]
        },
        {
          "output_type": "stream",
          "name": "stderr",
          "text": [
            "5249226it [14:55:14, 82.05it/s]"
          ]
        },
        {
          "output_type": "stream",
          "name": "stdout",
          "text": [
            "   Train Loss = 0.5472552769849806   Test Loss = 0.7123174667358398\n"
          ]
        },
        {
          "output_type": "stream",
          "name": "stderr",
          "text": [
            "5276422it [14:59:53, 78.73it/s] "
          ]
        },
        {
          "output_type": "stream",
          "name": "stdout",
          "text": [
            "   Train Loss = 0.5471582957616369   Test Loss = 0.7198442220687866\n"
          ]
        },
        {
          "output_type": "stream",
          "name": "stderr",
          "text": [
            "5303621it [15:04:31, 81.48it/s] "
          ]
        },
        {
          "output_type": "stream",
          "name": "stdout",
          "text": [
            "   Train Loss = 0.5471237904096808   Test Loss = 0.5523636341094971\n"
          ]
        },
        {
          "output_type": "stream",
          "name": "stderr",
          "text": [
            "5330822it [15:09:09, 81.78it/s]"
          ]
        },
        {
          "output_type": "stream",
          "name": "stdout",
          "text": [
            "   Train Loss = 0.5472367496576035   Test Loss = 0.6602513194084167\n"
          ]
        },
        {
          "output_type": "stream",
          "name": "stderr",
          "text": [
            "5358021it [15:13:45, 80.21it/s]"
          ]
        },
        {
          "output_type": "stream",
          "name": "stdout",
          "text": [
            "   Train Loss = 0.547099338646224   Test Loss = 0.7311135530471802\n"
          ]
        },
        {
          "output_type": "stream",
          "name": "stderr",
          "text": [
            "5385220it [15:18:23, 78.65it/s]"
          ]
        },
        {
          "output_type": "stream",
          "name": "stdout",
          "text": [
            "   Train Loss = 0.5469265964524046   Test Loss = 0.5624391436576843\n"
          ]
        },
        {
          "output_type": "stream",
          "name": "stderr",
          "text": [
            "5412416it [15:23:00, 83.00it/s]"
          ]
        },
        {
          "output_type": "stream",
          "name": "stdout",
          "text": [
            "   Train Loss = 0.5469752845452791   Test Loss = 0.6088471412658691\n"
          ]
        },
        {
          "output_type": "stream",
          "name": "stderr",
          "text": [
            "5439613it [15:27:36, 88.18it/s]"
          ]
        },
        {
          "output_type": "stream",
          "name": "stdout",
          "text": [
            "   Train Loss = 0.5469899699656224   Test Loss = 0.6203927397727966\n"
          ]
        },
        {
          "output_type": "stream",
          "name": "stderr",
          "text": [
            "5466816it [15:32:12, 85.72it/s]"
          ]
        },
        {
          "output_type": "stream",
          "name": "stdout",
          "text": [
            "   Train Loss = 0.5469572958030002   Test Loss = 0.5727312564849854\n"
          ]
        },
        {
          "output_type": "stream",
          "name": "stderr",
          "text": [
            "5494006it [15:36:48, 76.26it/s]"
          ]
        },
        {
          "output_type": "stream",
          "name": "stdout",
          "text": [
            "   Train Loss = 0.5467108751677513   Test Loss = 0.5892668962478638\n"
          ]
        },
        {
          "output_type": "stream",
          "name": "stderr",
          "text": [
            "5521207it [15:41:25, 85.35it/s]"
          ]
        },
        {
          "output_type": "stream",
          "name": "stdout",
          "text": [
            "   Train Loss = 0.5468075332400361   Test Loss = 0.6742886900901794\n"
          ]
        },
        {
          "output_type": "stream",
          "name": "stderr",
          "text": [
            "5548406it [15:46:01, 86.10it/s]"
          ]
        },
        {
          "output_type": "stream",
          "name": "stdout",
          "text": [
            "   Train Loss = 0.5468300460971395   Test Loss = 0.6068381071090698\n"
          ]
        },
        {
          "output_type": "stream",
          "name": "stderr",
          "text": [
            "5575602it [15:50:35, 79.32it/s]"
          ]
        },
        {
          "output_type": "stream",
          "name": "stdout",
          "text": [
            "   Train Loss = 0.5467846972318736   Test Loss = 0.6315256357192993\n"
          ]
        },
        {
          "output_type": "stream",
          "name": "stderr",
          "text": [
            "5602806it [15:55:13, 85.36it/s]"
          ]
        },
        {
          "output_type": "stream",
          "name": "stdout",
          "text": [
            "   Train Loss = 0.5468006393507795   Test Loss = 0.637437641620636\n"
          ]
        },
        {
          "output_type": "stream",
          "name": "stderr",
          "text": [
            "5629997it [15:59:49, 82.29it/s] "
          ]
        },
        {
          "output_type": "stream",
          "name": "stdout",
          "text": [
            "   Train Loss = 0.5465988853730054   Test Loss = 0.6704790592193604\n"
          ]
        },
        {
          "output_type": "stream",
          "name": "stderr",
          "text": [
            "5657200it [16:04:28, 84.96it/s]"
          ]
        },
        {
          "output_type": "stream",
          "name": "stdout",
          "text": [
            "   Train Loss = 0.5465318494811199   Test Loss = 0.5722806453704834\n"
          ]
        },
        {
          "output_type": "stream",
          "name": "stderr",
          "text": [
            "5663033it [16:05:28, 101.01it/s]"
          ]
        }
      ],
      "source": [
        "#Train neural network and test accuracy\n",
        "\n",
        "train_loss = 0\n",
        "train_count = 0\n",
        "n = 64\n",
        "inds = np.arange(len(gpu_train_inputs))\n",
        "with tqdm() as pbar:\n",
        "    for i in range(last_i+1, 100000):\n",
        "        np.random.shuffle(inds)\n",
        "        neural_net.train()\n",
        "        for j in range(len(inds)//n):\n",
        "\n",
        "            batch_inputs = gpu_train_inputs[inds[j*n:(j+1)*n]]\n",
        "            batch_labels = gpu_train_labels[inds[j*n:(j+1)*n]]\n",
        "\n",
        "            optim.zero_grad()\n",
        "\n",
        "            outputs = neural_net(batch_inputs).squeeze(dim = 1)\n",
        "            loss = loss_fn(outputs,batch_labels)\n",
        "            loss.backward()\n",
        "            train_loss += loss.detach()\n",
        "            train_count += 1\n",
        "            optim.step()\n",
        "\n",
        "\n",
        "            pbar.update(1)\n",
        "\n",
        "        test_inds = np.random.choice(len(gpu_test_inputs), n, replace = False)\n",
        "        batch_inputs = gpu_test_inputs[test_inds]\n",
        "        batch_labels = gpu_test_labels[test_inds]\n",
        "\n",
        "        neural_net.eval()\n",
        "        with torch.no_grad():\n",
        "            outputs = neural_net(batch_inputs).squeeze(dim = 1)\n",
        "            test_loss = loss_fn(outputs,batch_labels)\n",
        "\n",
        "        torch.save(neural_net.state_dict(), f'/content/drive/MyDrive/chess_data/small_model/neural_net{i:04d}.pt')\n",
        "\n",
        "        print(f\"   Train Loss = {train_loss.to(device = 'cpu').numpy()/train_count}   Test Loss = {test_loss.to(device = 'cpu').numpy()}\")\n",
        "        train_loss = 0\n",
        "        train_count = 0"
      ]
    },
    {
      "cell_type": "code",
      "source": [],
      "metadata": {
        "id": "qJk7bj_89wDV"
      },
      "execution_count": null,
      "outputs": []
    }
  ],
  "metadata": {
    "accelerator": "GPU",
    "colab": {
      "gpuType": "T4",
      "machine_shape": "hm",
      "provenance": [],
      "mount_file_id": "1w4lPsoS-cUVk2ZbvB1Ug2wOLeCmEldzk",
      "authorship_tag": "ABX9TyPPxBNFC8PmjGeQSzbNO4KJ",
      "include_colab_link": true
    },
    "kernelspec": {
      "display_name": "Python 3",
      "name": "python3"
    },
    "language_info": {
      "name": "python"
    }
  },
  "nbformat": 4,
  "nbformat_minor": 0
}