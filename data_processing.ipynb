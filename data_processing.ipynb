{
 "cells": [
  {
   "cell_type": "code",
   "execution_count": 15,
   "metadata": {},
   "outputs": [],
   "source": [
    "import chess.pgn\n",
    "from IPython.display import clear_output\n",
    "import math\n",
    "from typing import NamedTuple, Tuple\n",
    "import torch\n",
    "from torch import nn\n",
    "import torch.nn.functional as F\n",
    "import numpy as np\n",
    "import chess\n",
    "import chess.engine\n",
    "from tqdm import tqdm \n",
    "import csv\n",
    "import requests\n",
    "import gc\n",
    "import requests\n",
    "import numpy as np\n",
    "from concurrent.futures import ThreadPoolExecutor\n",
    "import time\n",
    "import pickle"
   ]
  },
  {
   "cell_type": "markdown",
   "metadata": {},
   "source": [
    "Download the PGN Database with 4,471,785 games. \n",
    "\n",
    "This can be done in the terminal with:\n",
    "\n",
    "!wget https://l--l.top/ajotb-pgn-000\n",
    "\n",
    "!7z x /content/ajotb-pgn-000"
   ]
  },
  {
   "cell_type": "markdown",
   "metadata": {},
   "source": [
    "Extract the moves from the PGN file. This data set has limited other data (elo, openings, etc) so we will stick to moves."
   ]
  },
  {
   "cell_type": "code",
   "execution_count": null,
   "metadata": {},
   "outputs": [],
   "source": [
    "pgn_file_path = \"/content/AJ-OTB-PGN-000.pgn\"\n",
    "games = []\n",
    "#black_elo = []\n",
    "#white_elo = []\n",
    "with open(pgn_file_path) as pgn_file:\n",
    "    game_number = 1\n",
    "    while True:\n",
    "        game = chess.pgn.read_game(pgn_file)\n",
    "        if game is None:\n",
    "            break\n",
    "        moves = [str(m) for m in game.mainline_moves()]\n",
    "        if len(moves) >0:\n",
    "            games.append(moves)\n",
    "            #black_elo.append(game.headers.get(\"BlackElo\", \"N/A\"))\n",
    "            #white_elo.append(game.headers.get(\"WhiteElo\", \"N/A\"))\n",
    "            game_number += 1\n",
    "            if game_number % 10000 == 0:\n",
    "                clear_output()\n",
    "                print(f\"Processed {game_number} games\")"
   ]
  },
  {
   "cell_type": "markdown",
   "metadata": {},
   "source": [
    "Now we have a list of game moves which we need to turn into a list of positions and the moves that humans made from those positions."
   ]
  },
  {
   "cell_type": "code",
   "execution_count": null,
   "metadata": {},
   "outputs": [],
   "source": [
    "move_dict = {}\n",
    "\n",
    "for game in games:\n",
    "    fens = []\n",
    "    moves = []\n",
    "    works = True\n",
    "    board = chess.Board()\n",
    "    for move in game:\n",
    "\n",
    "        uci_move = chess.Move.from_uci(move)\n",
    "        #If the move is legal (some games have illegal moves so we will discard those)\n",
    "        if uci_move in board.legal_moves:\n",
    "            #Save the FEN of the current position\n",
    "            fens.append(board.fen())\n",
    "\n",
    "            #Save the human move from that position\n",
    "            moves.append(move)\n",
    "\n",
    "            #Update the board\n",
    "            board.push(uci_move)\n",
    "        else:\n",
    "            #If the move is illegal, disregard this game\n",
    "            works = False\n",
    "            break\n",
    "\n",
    "    if works:\n",
    "        for fen, move in zip(fens, moves):\n",
    "            #If this is a new (position, move) pair, add it to the dictionary\n",
    "            if fen not in move_dict:\n",
    "                move_dict[fen] = [move]\n",
    "            else:\n",
    "                if move not in move_dict[fen]:\n",
    "                    move_dict[fen].append(move)"
   ]
  },
  {
   "cell_type": "markdown",
   "metadata": {},
   "source": [
    "Save this dictionary in chunks of 1,000,000 positions."
   ]
  },
  {
   "cell_type": "code",
   "execution_count": null,
   "metadata": {},
   "outputs": [],
   "source": [
    "import pickle\n",
    "\n",
    "chunk = {}\n",
    "chunk_size = 1000000\n",
    "index = 0\n",
    "for key, value in tqdm(move_dict.items()):\n",
    "    chunk[key] = value\n",
    "    if len(chunk) >= chunk_size:\n",
    "        with open(f'chess_data/move_dict_{index:03d}.pkl', 'wb') as f:\n",
    "            pickle.dump(chunk, f)\n",
    "        chunk = {}\n",
    "        index += 1\n",
    "if chunk:\n",
    "    with open(f'chess_data/move_dict_{index:03d}.pkl', 'wb') as f:\n",
    "        pickle.dump(chunk, f)"
   ]
  }
 ],
 "metadata": {
  "kernelspec": {
   "display_name": "Python 3",
   "language": "python",
   "name": "python3"
  },
  "language_info": {
   "codemirror_mode": {
    "name": "ipython",
    "version": 3
   },
   "file_extension": ".py",
   "mimetype": "text/x-python",
   "name": "python",
   "nbconvert_exporter": "python",
   "pygments_lexer": "ipython3",
   "version": "3.10.11"
  }
 },
 "nbformat": 4,
 "nbformat_minor": 2
}
